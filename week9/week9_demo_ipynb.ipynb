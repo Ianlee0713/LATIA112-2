{
  "nbformat": 4,
  "nbformat_minor": 0,
  "metadata": {
    "colab": {
      "provenance": []
    },
    "kernelspec": {
      "name": "python3",
      "display_name": "Python 3"
    },
    "language_info": {
      "name": "python"
    }
  },
  "cells": [
    {
      "cell_type": "code",
      "source": [
        "# Connetced yourself Cloud Storage\n",
        "from google.colab import drive\n",
        "drive.mount('/content/gdrive/', force_remount=True)\n",
        "\n",
        "import os\n",
        "os.chdir(\"自己雲端硬碟的鏈結位置\")\n",
        "os.listdir()"
      ],
      "metadata": {
        "id": "dYFTeUjsl-3J"
      },
      "execution_count": null,
      "outputs": []
    },
    {
      "cell_type": "code",
      "source": [
        "%%shell\n",
        "# Ubuntu no longer distributes chromium-browser outside of snap\n",
        "#\n",
        "# Proposed solution: https://askubuntu.com/questions/1204571/how-to-install-chromium-without-snap\n",
        "\n",
        "# Add debian buster\n",
        "cat > /etc/apt/sources.list.d/debian.list <<'EOF'\n",
        "deb [arch=amd64 signed-by=/usr/share/keyrings/debian-buster.gpg] http://deb.debian.org/debian buster main\n",
        "deb [arch=amd64 signed-by=/usr/share/keyrings/debian-buster-updates.gpg] http://deb.debian.org/debian buster-updates main\n",
        "deb [arch=amd64 signed-by=/usr/share/keyrings/debian-security-buster.gpg] http://deb.debian.org/debian-security buster/updates main\n",
        "EOF\n",
        "\n",
        "# Add keys\n",
        "apt-key adv --keyserver keyserver.ubuntu.com --recv-keys DCC9EFBF77E11517\n",
        "apt-key adv --keyserver keyserver.ubuntu.com --recv-keys 648ACFD622F3D138\n",
        "apt-key adv --keyserver keyserver.ubuntu.com --recv-keys 112695A0E562B32A\n",
        "\n",
        "apt-key export 77E11517 | gpg --dearmour -o /usr/share/keyrings/debian-buster.gpg\n",
        "apt-key export 22F3D138 | gpg --dearmour -o /usr/share/keyrings/debian-buster-updates.gpg\n",
        "apt-key export E562B32A | gpg --dearmour -o /usr/share/keyrings/debian-security-buster.gpg\n",
        "\n",
        "# Prefer debian repo for chromium* packages only\n",
        "# Note the double-blank lines between entries\n",
        "cat > /etc/apt/preferences.d/chromium.pref << 'EOF'\n",
        "Package: *\n",
        "Pin: release a=eoan\n",
        "Pin-Priority: 500\n",
        "\n",
        "Package: *\n",
        "Pin: origin \"deb.debian.org\"\n",
        "Pin-Priority: 300\n",
        "\n",
        "\n",
        "Package: chromium*\n",
        "Pin: origin \"deb.debian.org\"\n",
        "Pin-Priority: 700\n",
        "EOF\n",
        "\n",
        "# Install chromium and chromium-driver\n",
        "apt-get update\n",
        "apt-get install chromium chromium-driver\n",
        "\n",
        "# Install selenium\n",
        "pip install selenium\n"
      ],
      "metadata": {
        "id": "9i3osar0vVms",
        "colab": {
          "base_uri": "https://localhost:8080/"
        },
        "outputId": "9fbf4e31-f0d6-447c-fbb0-26c60454c99e"
      },
      "execution_count": null,
      "outputs": [
        {
          "output_type": "stream",
          "name": "stdout",
          "text": [
            "Warning: apt-key is deprecated. Manage keyring files in trusted.gpg.d instead (see apt-key(8)).\n",
            "Executing: /tmp/apt-key-gpghome.8Sv3YoYaAB/gpg.1.sh --keyserver keyserver.ubuntu.com --recv-keys DCC9EFBF77E11517\n",
            "gpg: key DCC9EFBF77E11517: public key \"Debian Stable Release Key (10/buster) <debian-release@lists.debian.org>\" imported\n",
            "gpg: Total number processed: 1\n",
            "gpg:               imported: 1\n",
            "Warning: apt-key is deprecated. Manage keyring files in trusted.gpg.d instead (see apt-key(8)).\n",
            "Executing: /tmp/apt-key-gpghome.F0bBKybfW2/gpg.1.sh --keyserver keyserver.ubuntu.com --recv-keys 648ACFD622F3D138\n",
            "gpg: key DC30D7C23CBBABEE: public key \"Debian Archive Automatic Signing Key (10/buster) <ftpmaster@debian.org>\" imported\n",
            "gpg: Total number processed: 1\n",
            "gpg:               imported: 1\n",
            "Warning: apt-key is deprecated. Manage keyring files in trusted.gpg.d instead (see apt-key(8)).\n",
            "Executing: /tmp/apt-key-gpghome.cqLsTy7jBC/gpg.1.sh --keyserver keyserver.ubuntu.com --recv-keys 112695A0E562B32A\n",
            "gpg: key 4DFAB270CAA96DFA: public key \"Debian Security Archive Automatic Signing Key (10/buster) <ftpmaster@debian.org>\" imported\n",
            "gpg: Total number processed: 1\n",
            "gpg:               imported: 1\n",
            "Warning: apt-key is deprecated. Manage keyring files in trusted.gpg.d instead (see apt-key(8)).\n",
            "Warning: apt-key is deprecated. Manage keyring files in trusted.gpg.d instead (see apt-key(8)).\n",
            "Warning: apt-key is deprecated. Manage keyring files in trusted.gpg.d instead (see apt-key(8)).\n",
            "Get:1 http://deb.debian.org/debian buster InRelease [122 kB]\n",
            "Get:2 https://cloud.r-project.org/bin/linux/ubuntu jammy-cran40/ InRelease [3,626 B]\n",
            "Get:3 http://deb.debian.org/debian buster-updates InRelease [56.6 kB]\n",
            "Get:4 http://deb.debian.org/debian-security buster/updates InRelease [34.8 kB]\n",
            "Hit:5 http://archive.ubuntu.com/ubuntu jammy InRelease\n",
            "Hit:6 https://developer.download.nvidia.com/compute/cuda/repos/ubuntu2204/x86_64  InRelease\n",
            "Get:7 http://archive.ubuntu.com/ubuntu jammy-updates InRelease [128 kB]\n",
            "Get:8 http://security.ubuntu.com/ubuntu jammy-security InRelease [129 kB]\n",
            "Get:9 http://deb.debian.org/debian buster/main amd64 Packages [10.7 MB]\n",
            "Get:10 http://archive.ubuntu.com/ubuntu jammy-backports InRelease [127 kB]\n",
            "Hit:11 https://ppa.launchpadcontent.net/c2d4u.team/c2d4u4.0+/ubuntu jammy InRelease\n",
            "Hit:12 https://ppa.launchpadcontent.net/deadsnakes/ppa/ubuntu jammy InRelease\n",
            "Get:13 https://ppa.launchpadcontent.net/graphics-drivers/ppa/ubuntu jammy InRelease [24.3 kB]\n",
            "Get:14 http://deb.debian.org/debian buster-updates/main amd64 Packages [9,745 B]\n",
            "Hit:15 https://ppa.launchpadcontent.net/ubuntugis/ppa/ubuntu jammy InRelease\n",
            "Get:16 http://deb.debian.org/debian-security buster/updates/main amd64 Packages [779 kB]\n",
            "Get:17 http://archive.ubuntu.com/ubuntu jammy-updates/main amd64 Packages [2,129 kB]\n",
            "Get:18 http://archive.ubuntu.com/ubuntu jammy-updates/universe amd64 Packages [1,377 kB]\n",
            "Get:19 http://security.ubuntu.com/ubuntu jammy-security/universe amd64 Packages [1,084 kB]\n",
            "Get:20 https://ppa.launchpadcontent.net/graphics-drivers/ppa/ubuntu jammy/main amd64 Packages [47.6 kB]\n",
            "Get:21 http://security.ubuntu.com/ubuntu jammy-security/main amd64 Packages [1,858 kB]\n",
            "Fetched 18.7 MB in 9s (2,150 kB/s)\n",
            "Reading package lists... Done\n",
            "Reading package lists... Done\n",
            "Building dependency tree... Done\n",
            "Reading state information... Done\n",
            "The following additional packages will be installed:\n",
            "  chromium-common chromium-sandbox libevent-2.1-6 libfontenc1 libgudev-1.0-0 libicu63\n",
            "  libimobiledevice6 libjpeg62-turbo libjsoncpp1 libplist3 libre2-5 libu2f-udev libudev1\n",
            "  libupower-glib3 libusbmuxd6 libvpx5 libwebp6 libxkbfile1 libxtst6 libxxf86dga1\n",
            "  notification-daemon systemd-hwe-hwdb udev upower usbmuxd x11-utils\n",
            "Suggested packages:\n",
            "  chromium-l10n chromium-shell libusbmuxd-tools mesa-utils\n",
            "The following NEW packages will be installed:\n",
            "  chromium chromium-common chromium-driver chromium-sandbox libevent-2.1-6 libfontenc1\n",
            "  libgudev-1.0-0 libicu63 libimobiledevice6 libjpeg62-turbo libjsoncpp1 libplist3 libre2-5\n",
            "  libu2f-udev libupower-glib3 libusbmuxd6 libvpx5 libwebp6 libxkbfile1 libxtst6 libxxf86dga1\n",
            "  notification-daemon systemd-hwe-hwdb udev upower usbmuxd x11-utils\n",
            "The following packages will be upgraded:\n",
            "  libudev1\n",
            "1 upgraded, 27 newly installed, 0 to remove and 50 not upgraded.\n",
            "Need to get 76.8 MB of archives.\n",
            "After this operation, 267 MB of additional disk space will be used.\n",
            "Get:1 http://deb.debian.org/debian buster/main amd64 libevent-2.1-6 amd64 2.1.8-stable-4 [177 kB]\n",
            "Get:2 http://deb.debian.org/debian buster/main amd64 libicu63 amd64 63.1-6+deb10u3 [8,293 kB]\n",
            "Get:3 http://deb.debian.org/debian buster/main amd64 libjpeg62-turbo amd64 1:1.5.2-2+deb10u1 [133 kB]\n",
            "Get:4 http://deb.debian.org/debian buster/main amd64 libjsoncpp1 amd64 1.7.4-3 [75.6 kB]\n",
            "Get:5 http://deb.debian.org/debian buster/main amd64 libre2-5 amd64 20190101+dfsg-2 [161 kB]\n",
            "Get:6 http://deb.debian.org/debian-security buster/updates/main amd64 libvpx5 amd64 1.7.0-3+deb10u2 [800 kB]\n",
            "Get:7 http://deb.debian.org/debian-security buster/updates/main amd64 libwebp6 amd64 0.6.1-2+deb10u3 [263 kB]\n",
            "Get:8 http://deb.debian.org/debian buster/main amd64 chromium-common amd64 90.0.4430.212-1~deb10u1 [1,423 kB]\n",
            "Get:9 http://deb.debian.org/debian buster/main amd64 chromium amd64 90.0.4430.212-1~deb10u1 [58.3 MB]\n",
            "Get:10 http://archive.ubuntu.com/ubuntu jammy-updates/main amd64 libudev1 amd64 249.11-0ubuntu3.12 [78.2 kB]\n",
            "Get:11 http://deb.debian.org/debian buster/main amd64 chromium-driver amd64 90.0.4430.212-1~deb10u1 [4,703 kB]\n",
            "Get:12 http://deb.debian.org/debian buster/main amd64 chromium-sandbox amd64 90.0.4430.212-1~deb10u1 [146 kB]\n",
            "Get:13 http://archive.ubuntu.com/ubuntu jammy-updates/main amd64 udev amd64 249.11-0ubuntu3.12 [1,557 kB]\n",
            "Get:14 http://archive.ubuntu.com/ubuntu jammy/main amd64 libfontenc1 amd64 1:1.1.4-1build3 [14.7 kB]\n",
            "Get:15 http://archive.ubuntu.com/ubuntu jammy/main amd64 libxkbfile1 amd64 1:1.1.0-1build3 [71.8 kB]\n",
            "Get:16 http://archive.ubuntu.com/ubuntu jammy/main amd64 libxtst6 amd64 2:1.2.3-1build4 [13.4 kB]\n",
            "Get:17 http://archive.ubuntu.com/ubuntu jammy/main amd64 libxxf86dga1 amd64 2:1.1.5-0ubuntu3 [12.6 kB]\n",
            "Get:18 http://archive.ubuntu.com/ubuntu jammy/main amd64 x11-utils amd64 7.7+5build2 [206 kB]\n",
            "Get:19 http://archive.ubuntu.com/ubuntu jammy/main amd64 libgudev-1.0-0 amd64 1:237-2build1 [16.3 kB]\n",
            "Get:20 http://archive.ubuntu.com/ubuntu jammy/main amd64 libplist3 amd64 2.2.0-6build2 [32.1 kB]\n",
            "Get:21 http://archive.ubuntu.com/ubuntu jammy/main amd64 libusbmuxd6 amd64 2.0.2-3build2 [20.4 kB]\n",
            "Get:22 http://archive.ubuntu.com/ubuntu jammy/main amd64 libimobiledevice6 amd64 1.3.0-6build3 [71.1 kB]\n",
            "Get:23 http://archive.ubuntu.com/ubuntu jammy/main amd64 libu2f-udev all 1.1.10-3build2 [4,190 B]\n",
            "Get:24 http://archive.ubuntu.com/ubuntu jammy/main amd64 libupower-glib3 amd64 0.99.17-1 [46.7 kB]\n",
            "Get:25 http://archive.ubuntu.com/ubuntu jammy/universe amd64 notification-daemon amd64 3.20.0-4build1 [57.6 kB]\n",
            "Get:26 http://archive.ubuntu.com/ubuntu jammy-updates/main amd64 systemd-hwe-hwdb all 249.11.5 [3,228 B]\n",
            "Get:27 http://archive.ubuntu.com/ubuntu jammy/main amd64 upower amd64 0.99.17-1 [86.7 kB]\n",
            "Get:28 http://archive.ubuntu.com/ubuntu jammy/main amd64 usbmuxd amd64 1.1.1-2build2 [42.8 kB]\n",
            "Fetched 76.8 MB in 3s (22.0 MB/s)\n",
            "(Reading database ... 121918 files and directories currently installed.)\n",
            "Preparing to unpack .../libudev1_249.11-0ubuntu3.12_amd64.deb ...\n",
            "Unpacking libudev1:amd64 (249.11-0ubuntu3.12) over (249.11-0ubuntu3.10) ...\n",
            "Setting up libudev1:amd64 (249.11-0ubuntu3.12) ...\n",
            "Selecting previously unselected package udev.\n",
            "(Reading database ... 121918 files and directories currently installed.)\n",
            "Preparing to unpack .../00-udev_249.11-0ubuntu3.12_amd64.deb ...\n",
            "Unpacking udev (249.11-0ubuntu3.12) ...\n",
            "Selecting previously unselected package libevent-2.1-6:amd64.\n",
            "Preparing to unpack .../01-libevent-2.1-6_2.1.8-stable-4_amd64.deb ...\n",
            "Unpacking libevent-2.1-6:amd64 (2.1.8-stable-4) ...\n",
            "Selecting previously unselected package libicu63:amd64.\n",
            "Preparing to unpack .../02-libicu63_63.1-6+deb10u3_amd64.deb ...\n",
            "Unpacking libicu63:amd64 (63.1-6+deb10u3) ...\n",
            "Selecting previously unselected package libjpeg62-turbo:amd64.\n",
            "Preparing to unpack .../03-libjpeg62-turbo_1%3a1.5.2-2+deb10u1_amd64.deb ...\n",
            "Unpacking libjpeg62-turbo:amd64 (1:1.5.2-2+deb10u1) ...\n",
            "Selecting previously unselected package libjsoncpp1:amd64.\n",
            "Preparing to unpack .../04-libjsoncpp1_1.7.4-3_amd64.deb ...\n",
            "Unpacking libjsoncpp1:amd64 (1.7.4-3) ...\n",
            "Selecting previously unselected package libre2-5:amd64.\n",
            "Preparing to unpack .../05-libre2-5_20190101+dfsg-2_amd64.deb ...\n",
            "Unpacking libre2-5:amd64 (20190101+dfsg-2) ...\n",
            "Selecting previously unselected package libvpx5:amd64.\n",
            "Preparing to unpack .../06-libvpx5_1.7.0-3+deb10u2_amd64.deb ...\n",
            "Unpacking libvpx5:amd64 (1.7.0-3+deb10u2) ...\n",
            "Selecting previously unselected package libwebp6:amd64.\n",
            "Preparing to unpack .../07-libwebp6_0.6.1-2+deb10u3_amd64.deb ...\n",
            "Unpacking libwebp6:amd64 (0.6.1-2+deb10u3) ...\n",
            "Selecting previously unselected package libfontenc1:amd64.\n",
            "Preparing to unpack .../08-libfontenc1_1%3a1.1.4-1build3_amd64.deb ...\n",
            "Unpacking libfontenc1:amd64 (1:1.1.4-1build3) ...\n",
            "Selecting previously unselected package libxkbfile1:amd64.\n",
            "Preparing to unpack .../09-libxkbfile1_1%3a1.1.0-1build3_amd64.deb ...\n",
            "Unpacking libxkbfile1:amd64 (1:1.1.0-1build3) ...\n",
            "Selecting previously unselected package libxtst6:amd64.\n",
            "Preparing to unpack .../10-libxtst6_2%3a1.2.3-1build4_amd64.deb ...\n",
            "Unpacking libxtst6:amd64 (2:1.2.3-1build4) ...\n",
            "Selecting previously unselected package libxxf86dga1:amd64.\n",
            "Preparing to unpack .../11-libxxf86dga1_2%3a1.1.5-0ubuntu3_amd64.deb ...\n",
            "Unpacking libxxf86dga1:amd64 (2:1.1.5-0ubuntu3) ...\n",
            "Selecting previously unselected package x11-utils.\n",
            "Preparing to unpack .../12-x11-utils_7.7+5build2_amd64.deb ...\n",
            "Unpacking x11-utils (7.7+5build2) ...\n",
            "Selecting previously unselected package chromium-common.\n",
            "Preparing to unpack .../13-chromium-common_90.0.4430.212-1~deb10u1_amd64.deb ...\n",
            "Unpacking chromium-common (90.0.4430.212-1~deb10u1) ...\n",
            "Selecting previously unselected package chromium.\n",
            "Preparing to unpack .../14-chromium_90.0.4430.212-1~deb10u1_amd64.deb ...\n",
            "Unpacking chromium (90.0.4430.212-1~deb10u1) ...\n",
            "Selecting previously unselected package chromium-driver.\n",
            "Preparing to unpack .../15-chromium-driver_90.0.4430.212-1~deb10u1_amd64.deb ...\n",
            "Unpacking chromium-driver (90.0.4430.212-1~deb10u1) ...\n",
            "Selecting previously unselected package chromium-sandbox.\n",
            "Preparing to unpack .../16-chromium-sandbox_90.0.4430.212-1~deb10u1_amd64.deb ...\n",
            "Unpacking chromium-sandbox (90.0.4430.212-1~deb10u1) ...\n",
            "Selecting previously unselected package libgudev-1.0-0:amd64.\n",
            "Preparing to unpack .../17-libgudev-1.0-0_1%3a237-2build1_amd64.deb ...\n",
            "Unpacking libgudev-1.0-0:amd64 (1:237-2build1) ...\n",
            "Selecting previously unselected package libplist3:amd64.\n",
            "Preparing to unpack .../18-libplist3_2.2.0-6build2_amd64.deb ...\n",
            "Unpacking libplist3:amd64 (2.2.0-6build2) ...\n",
            "Selecting previously unselected package libusbmuxd6:amd64.\n",
            "Preparing to unpack .../19-libusbmuxd6_2.0.2-3build2_amd64.deb ...\n",
            "Unpacking libusbmuxd6:amd64 (2.0.2-3build2) ...\n",
            "Selecting previously unselected package libimobiledevice6:amd64.\n",
            "Preparing to unpack .../20-libimobiledevice6_1.3.0-6build3_amd64.deb ...\n",
            "Unpacking libimobiledevice6:amd64 (1.3.0-6build3) ...\n",
            "Selecting previously unselected package libu2f-udev.\n",
            "Preparing to unpack .../21-libu2f-udev_1.1.10-3build2_all.deb ...\n",
            "Unpacking libu2f-udev (1.1.10-3build2) ...\n",
            "Selecting previously unselected package libupower-glib3:amd64.\n",
            "Preparing to unpack .../22-libupower-glib3_0.99.17-1_amd64.deb ...\n",
            "Unpacking libupower-glib3:amd64 (0.99.17-1) ...\n",
            "Selecting previously unselected package notification-daemon.\n",
            "Preparing to unpack .../23-notification-daemon_3.20.0-4build1_amd64.deb ...\n",
            "Unpacking notification-daemon (3.20.0-4build1) ...\n",
            "Selecting previously unselected package systemd-hwe-hwdb.\n",
            "Preparing to unpack .../24-systemd-hwe-hwdb_249.11.5_all.deb ...\n",
            "Unpacking systemd-hwe-hwdb (249.11.5) ...\n",
            "Selecting previously unselected package upower.\n",
            "Preparing to unpack .../25-upower_0.99.17-1_amd64.deb ...\n",
            "Unpacking upower (0.99.17-1) ...\n",
            "Selecting previously unselected package usbmuxd.\n",
            "Preparing to unpack .../26-usbmuxd_1.1.1-2build2_amd64.deb ...\n",
            "Unpacking usbmuxd (1.1.1-2build2) ...\n",
            "Setting up libplist3:amd64 (2.2.0-6build2) ...\n",
            "Setting up libxtst6:amd64 (2:1.2.3-1build4) ...\n",
            "Setting up libxxf86dga1:amd64 (2:1.1.5-0ubuntu3) ...\n",
            "Setting up chromium-sandbox (90.0.4430.212-1~deb10u1) ...\n",
            "Setting up libicu63:amd64 (63.1-6+deb10u3) ...\n",
            "Setting up notification-daemon (3.20.0-4build1) ...\n",
            "Setting up libfontenc1:amd64 (1:1.1.4-1build3) ...\n",
            "Setting up libjpeg62-turbo:amd64 (1:1.5.2-2+deb10u1) ...\n",
            "Setting up udev (249.11-0ubuntu3.12) ...\n",
            "invoke-rc.d: could not determine current runlevel\n",
            "invoke-rc.d: policy-rc.d denied execution of start.\n",
            "Setting up libwebp6:amd64 (0.6.1-2+deb10u3) ...\n",
            "Setting up libevent-2.1-6:amd64 (2.1.8-stable-4) ...\n",
            "Setting up systemd-hwe-hwdb (249.11.5) ...\n",
            "Setting up libusbmuxd6:amd64 (2.0.2-3build2) ...\n",
            "Setting up libupower-glib3:amd64 (0.99.17-1) ...\n",
            "Setting up libre2-5:amd64 (20190101+dfsg-2) ...\n",
            "Setting up libxkbfile1:amd64 (1:1.1.0-1build3) ...\n",
            "Setting up libimobiledevice6:amd64 (1.3.0-6build3) ...\n",
            "Setting up libgudev-1.0-0:amd64 (1:237-2build1) ...\n",
            "Setting up libvpx5:amd64 (1.7.0-3+deb10u2) ...\n",
            "Setting up libjsoncpp1:amd64 (1.7.4-3) ...\n",
            "Setting up libu2f-udev (1.1.10-3build2) ...\n",
            "Setting up upower (0.99.17-1) ...\n",
            "Setting up usbmuxd (1.1.1-2build2) ...\n",
            "Warning: The home dir /var/lib/usbmux you specified can't be accessed: No such file or directory\n",
            "Adding system user `usbmux' (UID 104) ...\n",
            "Adding new user `usbmux' (UID 104) with group `plugdev' ...\n",
            "Not creating home directory `/var/lib/usbmux'.\n",
            "Setting up x11-utils (7.7+5build2) ...\n",
            "Setting up chromium-common (90.0.4430.212-1~deb10u1) ...\n",
            "Setting up chromium (90.0.4430.212-1~deb10u1) ...\n",
            "update-alternatives: using /usr/bin/chromium to provide /usr/bin/x-www-browser (x-www-browser) in auto mode\n",
            "update-alternatives: using /usr/bin/chromium to provide /usr/bin/gnome-www-browser (gnome-www-browser) in auto mode\n",
            "Setting up chromium-driver (90.0.4430.212-1~deb10u1) ...\n",
            "Processing triggers for man-db (2.10.2-1) ...\n",
            "Processing triggers for dbus (1.12.20-2ubuntu4.1) ...\n",
            "Processing triggers for hicolor-icon-theme (0.17-2) ...\n",
            "Processing triggers for libc-bin (2.35-0ubuntu3.4) ...\n",
            "/sbin/ldconfig.real: /usr/local/lib/libtbb.so.12 is not a symbolic link\n",
            "\n",
            "/sbin/ldconfig.real: /usr/local/lib/libtbbbind_2_0.so.3 is not a symbolic link\n",
            "\n",
            "/sbin/ldconfig.real: /usr/local/lib/libtbbmalloc.so.2 is not a symbolic link\n",
            "\n",
            "/sbin/ldconfig.real: /usr/local/lib/libtbbbind.so.3 is not a symbolic link\n",
            "\n",
            "/sbin/ldconfig.real: /usr/local/lib/libtbbmalloc_proxy.so.2 is not a symbolic link\n",
            "\n",
            "/sbin/ldconfig.real: /usr/local/lib/libtbbbind_2_5.so.3 is not a symbolic link\n",
            "\n",
            "Collecting selenium\n",
            "  Downloading selenium-4.21.0-py3-none-any.whl (9.5 MB)\n",
            "\u001b[2K     \u001b[90m━━━━━━━━━━━━━━━━━━━━━━━━━━━━━━━━━━━━━━━━\u001b[0m \u001b[32m9.5/9.5 MB\u001b[0m \u001b[31m20.3 MB/s\u001b[0m eta \u001b[36m0:00:00\u001b[0m\n",
            "\u001b[?25hRequirement already satisfied: urllib3[socks]<3,>=1.26 in /usr/local/lib/python3.10/dist-packages (from selenium) (2.0.7)\n",
            "Collecting trio~=0.17 (from selenium)\n",
            "  Downloading trio-0.25.1-py3-none-any.whl (467 kB)\n",
            "\u001b[2K     \u001b[90m━━━━━━━━━━━━━━━━━━━━━━━━━━━━━━━━━━━━━━━━\u001b[0m \u001b[32m467.7/467.7 kB\u001b[0m \u001b[31m31.9 MB/s\u001b[0m eta \u001b[36m0:00:00\u001b[0m\n",
            "\u001b[?25hCollecting trio-websocket~=0.9 (from selenium)\n",
            "  Downloading trio_websocket-0.11.1-py3-none-any.whl (17 kB)\n",
            "Requirement already satisfied: certifi>=2021.10.8 in /usr/local/lib/python3.10/dist-packages (from selenium) (2024.2.2)\n",
            "Requirement already satisfied: typing_extensions>=4.9.0 in /usr/local/lib/python3.10/dist-packages (from selenium) (4.11.0)\n",
            "Requirement already satisfied: attrs>=23.2.0 in /usr/local/lib/python3.10/dist-packages (from trio~=0.17->selenium) (23.2.0)\n",
            "Requirement already satisfied: sortedcontainers in /usr/local/lib/python3.10/dist-packages (from trio~=0.17->selenium) (2.4.0)\n",
            "Requirement already satisfied: idna in /usr/local/lib/python3.10/dist-packages (from trio~=0.17->selenium) (3.7)\n",
            "Collecting outcome (from trio~=0.17->selenium)\n",
            "  Downloading outcome-1.3.0.post0-py2.py3-none-any.whl (10 kB)\n",
            "Requirement already satisfied: sniffio>=1.3.0 in /usr/local/lib/python3.10/dist-packages (from trio~=0.17->selenium) (1.3.1)\n",
            "Requirement already satisfied: exceptiongroup in /usr/local/lib/python3.10/dist-packages (from trio~=0.17->selenium) (1.2.1)\n",
            "Collecting wsproto>=0.14 (from trio-websocket~=0.9->selenium)\n",
            "  Downloading wsproto-1.2.0-py3-none-any.whl (24 kB)\n",
            "Requirement already satisfied: pysocks!=1.5.7,<2.0,>=1.5.6 in /usr/local/lib/python3.10/dist-packages (from urllib3[socks]<3,>=1.26->selenium) (1.7.1)\n",
            "Collecting h11<1,>=0.9.0 (from wsproto>=0.14->trio-websocket~=0.9->selenium)\n",
            "  Downloading h11-0.14.0-py3-none-any.whl (58 kB)\n",
            "\u001b[2K     \u001b[90m━━━━━━━━━━━━━━━━━━━━━━━━━━━━━━━━━━━━━━━━\u001b[0m \u001b[32m58.3/58.3 kB\u001b[0m \u001b[31m6.9 MB/s\u001b[0m eta \u001b[36m0:00:00\u001b[0m\n",
            "\u001b[?25hInstalling collected packages: outcome, h11, wsproto, trio, trio-websocket, selenium\n",
            "Successfully installed h11-0.14.0 outcome-1.3.0.post0 selenium-4.21.0 trio-0.25.1 trio-websocket-0.11.1 wsproto-1.2.0\n"
          ]
        },
        {
          "output_type": "execute_result",
          "data": {
            "text/plain": []
          },
          "metadata": {},
          "execution_count": 1
        }
      ]
    },
    {
      "cell_type": "code",
      "source": [
        "!pip install selenium"
      ],
      "metadata": {
        "id": "S06re1LqRRfk",
        "colab": {
          "base_uri": "https://localhost:8080/"
        },
        "outputId": "8ef708a2-c1d4-47fd-d287-f3e9faf9b6a7"
      },
      "execution_count": null,
      "outputs": [
        {
          "output_type": "stream",
          "name": "stdout",
          "text": [
            "Requirement already satisfied: selenium in /usr/local/lib/python3.10/dist-packages (4.21.0)\n",
            "Requirement already satisfied: urllib3[socks]<3,>=1.26 in /usr/local/lib/python3.10/dist-packages (from selenium) (2.0.7)\n",
            "Requirement already satisfied: trio~=0.17 in /usr/local/lib/python3.10/dist-packages (from selenium) (0.25.1)\n",
            "Requirement already satisfied: trio-websocket~=0.9 in /usr/local/lib/python3.10/dist-packages (from selenium) (0.11.1)\n",
            "Requirement already satisfied: certifi>=2021.10.8 in /usr/local/lib/python3.10/dist-packages (from selenium) (2024.2.2)\n",
            "Requirement already satisfied: typing_extensions>=4.9.0 in /usr/local/lib/python3.10/dist-packages (from selenium) (4.11.0)\n",
            "Requirement already satisfied: attrs>=23.2.0 in /usr/local/lib/python3.10/dist-packages (from trio~=0.17->selenium) (23.2.0)\n",
            "Requirement already satisfied: sortedcontainers in /usr/local/lib/python3.10/dist-packages (from trio~=0.17->selenium) (2.4.0)\n",
            "Requirement already satisfied: idna in /usr/local/lib/python3.10/dist-packages (from trio~=0.17->selenium) (3.7)\n",
            "Requirement already satisfied: outcome in /usr/local/lib/python3.10/dist-packages (from trio~=0.17->selenium) (1.3.0.post0)\n",
            "Requirement already satisfied: sniffio>=1.3.0 in /usr/local/lib/python3.10/dist-packages (from trio~=0.17->selenium) (1.3.1)\n",
            "Requirement already satisfied: exceptiongroup in /usr/local/lib/python3.10/dist-packages (from trio~=0.17->selenium) (1.2.1)\n",
            "Requirement already satisfied: wsproto>=0.14 in /usr/local/lib/python3.10/dist-packages (from trio-websocket~=0.9->selenium) (1.2.0)\n",
            "Requirement already satisfied: pysocks!=1.5.7,<2.0,>=1.5.6 in /usr/local/lib/python3.10/dist-packages (from urllib3[socks]<3,>=1.26->selenium) (1.7.1)\n",
            "Requirement already satisfied: h11<1,>=0.9.0 in /usr/local/lib/python3.10/dist-packages (from wsproto>=0.14->trio-websocket~=0.9->selenium) (0.14.0)\n"
          ]
        }
      ]
    },
    {
      "cell_type": "markdown",
      "source": [
        "# 使用 CSS Selector\n",
        "\n",
        "請找出並列印 \"札根學習 Python 程式設計 - 176 個絕對想馬上跟著做的「超互動範例」\" 這本書的圖片網址與文本內容。\n",
        "\n"
      ],
      "metadata": {
        "id": "iiNTPe1W2Ldj"
      }
    },
    {
      "cell_type": "code",
      "execution_count": null,
      "metadata": {
        "id": "utVHjIwWuVvS",
        "colab": {
          "base_uri": "https://localhost:8080/"
        },
        "outputId": "3f9a8f96-8be6-4c39-cdcb-33b66e7c29d5"
      },
      "outputs": [
        {
          "output_type": "stream",
          "name": "stdout",
          "text": [
            "https://www.flag.com.tw/assets/img/bookpic/F9751.jpg\n",
            "---------------------------\n",
            "用 Python 學運算思維\n"
          ]
        }
      ],
      "source": [
        "# 這段程式碼是使用子進程來執行pip安裝cssselect模組，並使用requests和lxml.html模組來解析網頁內容。\n",
        "\n",
        "\n",
        "# 導入sys模組，用於訪問系統相關的功能。\n",
        "import sys\n",
        "\n",
        "# 導入subprocess模組，用於建立和管理子進程，以執行命令行操作。\n",
        "import subprocess\n",
        "\n",
        "# 使用check_call函數執行指定的命令，該函數會等待命令完成並檢查返回碼。\n",
        "# 在這裡，指定的命令是一個列表，包含要在命令行中執行的命令以及相應的參數。其中：\n",
        "# -`sys.executable`提供Python解釋器的路徑，以確保在正確的環境中執行pip。\n",
        "# -`-m pip` 表示使用Python的pip模組。\n",
        "# -`install cssselect` 是指定要安裝的模組。\n",
        "subprocess.check_call([sys.executable, '-m', 'pip', 'install', 'cssselect'])\n",
        "\n",
        "# 導入requests函式庫，它是用於向網站發送HTTP請求以取得網頁資源的常用函式庫。\n",
        "import requests\n",
        "\n",
        "# 導入lxml函式庫中的html模組，用於解析HTML文件並建構ElementTree物件。\n",
        "from lxml import html\n",
        "\n",
        "# 發送一個GET請求到指定的URL（\"http://www.flag.com.tw/books/school_code_n_algo\"），\n",
        "# 並將回應儲存在變數r中。\n",
        "r = requests.get(\"http://www.flag.com.tw/books/school_code_n_algo\")\n",
        "\n",
        "# 使用lxml.html模組中的fromstring()函式將回應的HTML文本轉換為ElementTree物件，儲存在變數tree中。\n",
        "tree = html.fromstring(r.text)\n",
        "\n",
        "# 使用CSS選擇器來選擇特定的HTML元素。這裡選擇了第一個``元素，並將其儲存在tag_img中。\n",
        "tag_img = tree.cssselect(\"body > section.allbooks > table > tr:nth-child(10) > td:nth-child(3) > a > img\")[0]\n",
        "\n",
        "# 輸出圖片的URL。\n",
        "print(tag_img.attrib[\"src\"])\n",
        "print('---------------------------')\n",
        "\n",
        "# 使用CSS選擇器來選擇第一個``元素，並將其儲存在`tag_p`中。\n",
        "tag_p = tree.cssselect(\"body > section.allbooks > table  > tr:nth-child(10) > td:nth-child(3) > a > p\")[0]\n",
        "\n",
        "# 輸出`tag_p`元素的文本內容為\n",
        "# 札根學習 Python 程式設計 - 176 個絕對想馬上跟著做的「超互動範例」。\n",
        "print(tag_p.text_content())"
      ]
    },
    {
      "cell_type": "markdown",
      "source": [
        "# 使用 XPath\n",
        "\n",
        "請找出並列印 \"ChatGPT✕Excel VBA 網路爬蟲與資料分析：使用生成式 AI 「重啟」你的 Excel 辦公室自動化\" 這本書的圖片網址與文本內容。"
      ],
      "metadata": {
        "id": "bW_9Ssmiy6Rq"
      }
    },
    {
      "cell_type": "code",
      "source": [
        "# 這段程式碼使用requests和lxml.html模組來解析網頁內容。\n",
        "\n",
        "\n",
        "# 導入requests函式庫，它是用於向網站發送HTTP請求以取得網頁資源的常用函式庫。\n",
        "import requests\n",
        "\n",
        "# 導入lxml函式庫中的html模組，用於解析HTML文件並建構ElementTree物件。\n",
        "from lxml import html\n",
        "\n",
        "# 發送一個GET請求到指定的URL（\"http://www.flag.com.tw/books/school_code_n_algo\"），\n",
        "# 並將回應儲在存變數r中。\n",
        "r = requests.get(\"http://www.flag.com.tw/books/school_code_n_algo\")\n",
        "\n",
        "# 使用lxml.html模組中的fromstring()函式將回應的HTML文本轉換為ElementTree物件，儲存在變數tree中。\n",
        "tree = html.fromstring(r.text)\n",
        "\n",
        "# 使用XPath表達式來選擇指定的HTML元素。這裡選擇第一個``元素，並將其儲存在`tag_img`中。\n",
        "tag_img = tree.xpath(\"/html/body/section[2]/table/tr[2]/td[1]/a/img\")[0]\n",
        "\n",
        "# 輸出圖片的URL。\n",
        "print(tag_img.attrib[\"src\"])\n",
        "print('---------------------------')\n",
        "\n",
        "tag_p = tree.xpath(\"/html/body/section[2]/table/tr[2]/td[1]/a/p\")[0]\n",
        "print(tag_p.text)\n"
      ],
      "metadata": {
        "id": "5ZDvXXqxy5Zr",
        "colab": {
          "base_uri": "https://localhost:8080/"
        },
        "outputId": "9d0769c3-15ab-4630-e6b3-c404bb5ef650"
      },
      "execution_count": null,
      "outputs": [
        {
          "output_type": "stream",
          "name": "stdout",
          "text": [
            "https://www.flag.com.tw/assets/img/bookpic/F3589.jpg\n",
            "---------------------------\n",
            "Unity 遊戲設計：程式基礎、操作祕訣、製作流程、關卡設計全攻略\n"
          ]
        }
      ]
    },
    {
      "cell_type": "markdown",
      "source": [
        "# 使用 find_element & By_TAG_NAME\n",
        "\n",
        "找出並列印文本內容為\"程式設計與演算法\"。"
      ],
      "metadata": {
        "id": "BRBPbpcG2lv1"
      }
    },
    {
      "cell_type": "code",
      "source": [
        "# 這段程式碼是使用Selenium函式庫來控制Chrome瀏覽器，並從網頁中提取特定元素的文本內容。\n",
        "\n",
        "\n",
        "# 導入Selenium的webdriver模組，用於控制Chrome瀏覽器。\n",
        "from selenium import webdriver\n",
        "\n",
        "# 從Selenium函式庫的common.by模組中導入`By`，用於指定元素的定位方式。\n",
        "from selenium.webdriver.common.by import By\n",
        "\n",
        "# 建立ChromeOptions物件，這個物件用於設定Chrome瀏覽器的選項。\n",
        "chrome_options = webdriver.ChromeOptions()\n",
        "\n",
        "# 使用add_argument()方法添加--headless參數，使Chrome以headless模式運行，即在後台運行，不顯示GUI界面。\n",
        "chrome_options.add_argument('--headless')\n",
        "\n",
        "# 使用add_argument()方法添加--no-sandbox參數，這是一個必要的參數，用於解決在某些環境下的運行問題。\n",
        "chrome_options.add_argument('--no-sandbox')\n",
        "\n",
        "# 將 headless 屬性設置為 True。\n",
        "chrome_options.headless = True\n",
        "\n",
        "# 初始化Chrome WebDriver，並傳遞Chromedriver的路徑和選項。\n",
        "driver = webdriver.Chrome(options=chrome_options)\n",
        "\n",
        "# 設置隱式等待時間為10秒。隱式等待是在查找元素時的一種等待方式，\n",
        "# 如果WebDriver沒有找到元素，它會等待一定的時間再進行查找，直到超過設定的時間為止。\n",
        "driver.implicitly_wait(10)\n",
        "\n",
        "# 使用get方法訪問指定的URL，在此是\"https://www.flag.com.tw/books/school_code_n_algo\"。\n",
        "driver.get(\"https://www.flag.com.tw/books/school_code_n_algo\")\n",
        "\n",
        "# 使用Selenium的定位函數，使用find_element()方法按標籤名（TAG_NAME）查找指定的元素，在此是h2標籤。\n",
        "h2 = driver.find_element(By.TAG_NAME, \"h2\")\n",
        "\n",
        "# 輸出元素的文本內容。\n",
        "print(h2.text)"
      ],
      "metadata": {
        "id": "pbw5VBvs2mUN",
        "colab": {
          "base_uri": "https://localhost:8080/"
        },
        "outputId": "69107508-3276-478e-948d-4b9aedba4239"
      },
      "execution_count": null,
      "outputs": [
        {
          "output_type": "stream",
          "name": "stdout",
          "text": [
            "程式設計與演算法\n"
          ]
        }
      ]
    },
    {
      "cell_type": "markdown",
      "source": [
        "# 使用 find_element & By_CLASS_NAME\n",
        "\n",
        "找出並列印文本內容為\"程式設計與演算法\"。"
      ],
      "metadata": {
        "id": "7Y3t_vwT3VHS"
      }
    },
    {
      "cell_type": "code",
      "source": [
        "\n",
        "# 這段程式碼是使用Selenium函式庫來控制Chrome瀏覽器，並從網頁中提取特定元素的文本內容。\n",
        "\n",
        "\n",
        "# 導入Selenium的webdriver模組，用於控制Chrome瀏覽器。\n",
        "from selenium import webdriver\n",
        "\n",
        "# 從Selenium函式庫的common.by模組中導入`By`，用於指定元素的定位方式。\n",
        "from selenium.webdriver.common.by import By\n",
        "\n",
        "# 建立ChromeOptions物件，這個物件用於設定Chrome瀏覽器的選項。\n",
        "chrome_options = webdriver.ChromeOptions()\n",
        "\n",
        "# 使用add_argument()方法添加--headless參數，使Chrome以headless模式運行，即在後台運行，不顯示GUI界面。\n",
        "chrome_options.add_argument('--headless')\n",
        "\n",
        "# 使用add_argument()方法添加--no-sandbox參數，這是一個必要的參數，用於解決在某些環境下的運行問題。\n",
        "chrome_options.add_argument('--no-sandbox')\n",
        "\n",
        "# 將 headless 屬性設置為 True。\n",
        "chrome_options.headless = True\n",
        "\n",
        "# 初始化Chrome WebDriver，並傳遞Chromedriver的路徑和選項。\n",
        "driver = webdriver.Chrome(options=chrome_options)\n",
        "\n",
        "# 設置隱式等待時間為10秒。隱式等待是在查找元素時的一種等待方式，\n",
        "# 如果WebDriver沒有找到元素，它會等待一定的時間再進行查找，直到超過設定的時間為止。\n",
        "driver.implicitly_wait(10)\n",
        "\n",
        "# 使用get方法訪問指定的URL，在此是\"https://www.flag.com.tw/books/school_code_n_algo\"。\n",
        "driver.get(\"https://www.flag.com.tw/books/school_code_n_algo\")\n",
        "\n",
        "# 使用find_element()方法按類別名稱（CLASS_NAME）查找指定的元素，在此是`rwd-table`。\n",
        "p = driver.find_element(By.CLASS_NAME, \"allbooks\")\n",
        "\n",
        "# 輸出p元素的文本內容。\n",
        "print(p.text[0:9])\n",
        "\n",
        "# 這個方法會關閉WebDriver並結束瀏覽器進程。這是為了確保在使用完瀏覽器後，程式可以正確地退出。\n",
        "driver.quit()"
      ],
      "metadata": {
        "id": "inU-ie0T3ZAh",
        "colab": {
          "base_uri": "https://localhost:8080/"
        },
        "outputId": "b1c4633a-901b-4a5a-fb25-3dde09ca369d"
      },
      "execution_count": null,
      "outputs": [
        {
          "output_type": "stream",
          "name": "stdout",
          "text": [
            "程式設計與演算法\n",
            "\n"
          ]
        }
      ]
    },
    {
      "cell_type": "markdown",
      "source": [
        "# 使用 find_element & By_ID\n",
        "\n",
        "分別找出並列印ID為toggle-search與search-form-mobile的標籤名稱。"
      ],
      "metadata": {
        "id": "EWrLeiz53Zkc"
      }
    },
    {
      "cell_type": "code",
      "source": [
        "# 這段程式碼是使用Selenium函式庫來控制Chrome瀏覽器，並從網頁中提取特定元素的文本內容。\n",
        "\n",
        "\n",
        "# 導入Selenium的webdriver模組，用於控制Chrome瀏覽器。\n",
        "from selenium import webdriver\n",
        "\n",
        "# 從Selenium函式庫的common.by模組中導入`By`，用於指定元素的定位方式。\n",
        "from selenium.webdriver.common.by import By\n",
        "\n",
        "# 建立ChromeOptions物件，這個物件用於設定Chrome瀏覽器的選項。\n",
        "chrome_options = webdriver.ChromeOptions()\n",
        "\n",
        "# 使用add_argument()方法添加--headless參數，使Chrome以headless模式運行，即在後台運行，不顯示GUI界面。\n",
        "chrome_options.add_argument('--headless')\n",
        "\n",
        "# 使用add_argument()方法添加--no-sandbox參數，這是一個必要的參數，用於解決在某些環境下的運行問題。\n",
        "chrome_options.add_argument('--no-sandbox')\n",
        "\n",
        "# 將 headless 屬性設置為 True。\n",
        "chrome_options.headless = True\n",
        "\n",
        "# 初始化Chrome WebDriver，並傳遞Chromedriver的路徑和選項。\n",
        "driver = webdriver.Chrome(options=chrome_options)\n",
        "\n",
        "# 設置隱式等待時間為10秒。隱式等待是在查找元素時的一種等待方式，\n",
        "# 如果WebDriver沒有找到元素，它會等待一定的時間再進行查找，直到超過設定的時間為止。\n",
        "driver.implicitly_wait(10)\n",
        "\n",
        "# 使用get方法訪問指定的URL，在此是\"https://www.flag.com.tw/books/school_code_n_algo\"。\n",
        "driver.get(\"https://www.flag.com.tw/books/school_code_n_algo\")\n",
        "\n",
        "# 使用find_element方法根據ID定位元素，將其儲存在form變數中。\n",
        "form = driver.find_element(By.ID, \"toggle-search\")\n",
        "\n",
        "# 列印form元素的標籤名稱。\n",
        "print(form.tag_name)\n",
        "print('---------------------------')\n",
        "\n",
        "# 使用find_element方法根據ID定位元素，將其儲存在form1變數中。\n",
        "form1 = driver.find_element(By.ID, \"search-form-mobile\")\n",
        "\n",
        "# 列印form1元素的標籤名稱。\n",
        "print(form1.tag_name)\n",
        "\n",
        "# 這個方法會關閉WebDriver並結束瀏覽器進程。這是為了確保在使用完瀏覽器後，程式可以正確地退出。\n",
        "driver.quit()"
      ],
      "metadata": {
        "id": "KPMNMK9M3nQN",
        "colab": {
          "base_uri": "https://localhost:8080/"
        },
        "outputId": "6dae1ebd-d8b7-4c7e-a04a-aa247e120df7"
      },
      "execution_count": null,
      "outputs": [
        {
          "output_type": "stream",
          "name": "stdout",
          "text": [
            "button\n",
            "---------------------------\n",
            "form\n"
          ]
        }
      ]
    },
    {
      "cell_type": "markdown",
      "source": [
        "# 使用 find_element & By.NAME\n",
        "\n",
        "找出NAME為book_search的標籤名稱與type屬性值。"
      ],
      "metadata": {
        "id": "FRtg5EiVUMKg"
      }
    },
    {
      "cell_type": "code",
      "source": [
        "# 這段程式碼是使用Selenium函式庫來控制Chrome瀏覽器，並從網頁中提取特定元素的文本內容。\n",
        "\n",
        "\n",
        "# 導入Selenium的webdriver模組，用於控制Chrome瀏覽器。\n",
        "from selenium import webdriver\n",
        "\n",
        "# 從Selenium函式庫的common.by模組中導入`By`，用於指定元素的定位方式。\n",
        "from selenium.webdriver.common.by import By\n",
        "\n",
        "# 建立ChromeOptions物件，這個物件用於設定Chrome瀏覽器的選項。\n",
        "chrome_options = webdriver.ChromeOptions()\n",
        "\n",
        "# 使用add_argument()方法添加--headless參數，使Chrome以headless模式運行，即在後台運行，不顯示GUI界面。\n",
        "chrome_options.add_argument('--headless')\n",
        "\n",
        "# 使用add_argument()方法添加--no-sandbox參數，這是一個必要的參數，用於解決在某些環境下的運行問題。\n",
        "chrome_options.add_argument('--no-sandbox')\n",
        "\n",
        "# 將 headless 屬性設置為 True。\n",
        "chrome_options.headless = True\n",
        "\n",
        "# 初始化Chrome WebDriver，並傳遞Chromedriver的路徑和選項。\n",
        "driver = webdriver.Chrome(options=chrome_options)\n",
        "\n",
        "# 設置隱式等待時間為10秒。隱式等待是在查找元素時的一種等待方式，\n",
        "# 如果WebDriver沒有找到元素，它會等待一定的時間再進行查找，直到超過設定的時間為止。\n",
        "driver.implicitly_wait(10)\n",
        "\n",
        "# 使用get方法訪問指定的URL，在此是\"https://www.flag.com.tw/books/school_code_n_algo\"。\n",
        "driver.get(\"https://www.flag.com.tw/books/school_code_n_algo\")\n",
        "\n",
        "# 使用find_element方法根據NAME定位元素，將其儲存在user變數中。\n",
        "user = driver.find_element(By.NAME, \"book_search\")\n",
        "\n",
        "# 列印user元素的標籤名稱。\n",
        "print(user.tag_name)\n",
        "print('---------------------------')\n",
        "\n",
        "# 列印user元素的type屬性值。\n",
        "print(user.get_attribute(\"type\"))\n"
      ],
      "metadata": {
        "id": "RHaiZm_-UMwu",
        "colab": {
          "base_uri": "https://localhost:8080/"
        },
        "outputId": "f66ea0af-38e7-464c-8472-ebd90128ee1a"
      },
      "execution_count": null,
      "outputs": [
        {
          "output_type": "stream",
          "name": "stdout",
          "text": [
            "input\n",
            "---------------------------\n",
            "search\n"
          ]
        }
      ]
    },
    {
      "cell_type": "markdown",
      "source": [
        "# 使用 find_element & By.XPATH\n",
        "\n",
        "請找出並列印\"新觀念 Visual C# 程式設計範例教本 第六版\"的標籤名稱、文本內容，以及圖片網址。"
      ],
      "metadata": {
        "id": "gcKrQ3643nv7"
      }
    },
    {
      "cell_type": "code",
      "source": [
        "# 這段程式碼是使用Selenium函式庫來控制Chrome瀏覽器，並從網頁中提取特定元素的文本內容。\n",
        "\n",
        "\n",
        "# 導入Selenium的webdriver模組，用於控制Chrome瀏覽器。\n",
        "from selenium import webdriver\n",
        "\n",
        "# 從Selenium函式庫的common.by模組中導入`By`，用於指定元素的定位方式。\n",
        "from selenium.webdriver.common.by import By\n",
        "\n",
        "# 建立ChromeOptions物件，這個物件用於設定Chrome瀏覽器的選項。\n",
        "chrome_options = webdriver.ChromeOptions()\n",
        "\n",
        "# 使用add_argument()方法添加--headless參數，使Chrome以headless模式運行，即在後台運行，不顯示GUI界面。\n",
        "chrome_options.add_argument('--headless')\n",
        "\n",
        "# 使用add_argument()方法添加--no-sandbox參數，這是一個必要的參數，用於解決在某些環境下的運行問題。\n",
        "chrome_options.add_argument('--no-sandbox')\n",
        "\n",
        "# 將 headless 屬性設置為 True。\n",
        "chrome_options.headless = True\n",
        "\n",
        "# 初始化Chrome WebDriver，並傳遞Chromedriver的路徑和選項。\n",
        "driver = webdriver.Chrome(options=chrome_options)\n",
        "\n",
        "# 設置隱式等待時間為10秒。隱式等待是在查找元素時的一種等待方式，\n",
        "# 如果WebDriver沒有找到元素，它會等待一定的時間再進行查找，直到超過設定的時間為止。\n",
        "driver.implicitly_wait(10)\n",
        "\n",
        "# 使用get方法訪問指定的URL，在此是\"https://www.flag.com.tw/books/school_code_n_algo\"。\n",
        "driver.get(\"https://www.flag.com.tw/books/school_code_n_algo\")\n",
        "\n",
        "\n",
        "form1 = driver.find_element(By.XPATH, \"/html/body/section[2]/table/tbody/tr[1]/td[1]\")\n",
        "\n",
        "# 列印form1元素的標籤名稱。\n",
        "print(form1.tag_name)\n",
        "print('---------------------------')\n",
        "\n",
        "form2 = driver.find_element(By.XPATH, \"/html/body/section[2]/table/tbody/tr[1]/td[1]/a\")\n",
        "\n",
        "\n",
        "# 列印form3元素的文本內容。\n",
        "print(form2.text)\n",
        "print('---------------------------')\n",
        "\n",
        "\n",
        "form3 = driver.find_element(By.XPATH, \"/html/body/section[2]/table/tbody/tr[1]/td[1]/a/img\")\n",
        "\n",
        "\n",
        "print(form3.get_attribute(\"src\"))\n",
        "print('---------------------------')\n",
        "\n",
        "# 這個方法會關閉WebDriver並結束瀏覽器進程。這是為了確保在使用完瀏覽器後，程式可以正確地退出。\n",
        "driver.quit()\n"
      ],
      "metadata": {
        "id": "MBmeTsMA4AUp",
        "colab": {
          "base_uri": "https://localhost:8080/"
        },
        "outputId": "3ec907a8-b7a1-4caa-fb57-591508cbc816"
      },
      "execution_count": null,
      "outputs": [
        {
          "output_type": "stream",
          "name": "stdout",
          "text": [
            "td\n",
            "---------------------------\n",
            "一步到位！Python 程式設計 – 最強入門教科書 第四版\n",
            "---------------------------\n",
            "https://www.flag.com.tw/assets/img/bookpic/F4719.jpg\n",
            "---------------------------\n"
          ]
        }
      ]
    },
    {
      "cell_type": "markdown",
      "source": [
        "# 使用 find_element & By.LINK_TEXT\n",
        "\n",
        "請找出並列印\"世界第一簡單的 Python「超」入門 - 零基礎 OK！ChatGPT 隨時當助教！\"的網址鏈結。"
      ],
      "metadata": {
        "id": "lp3k6ky44A1f"
      }
    },
    {
      "cell_type": "code",
      "source": [
        "# 這段程式碼是使用Selenium函式庫來控制Chrome瀏覽器，並從網頁中提取特定元素的文本內容。\n",
        "\n",
        "\n",
        "# 導入Selenium的webdriver模組，用於控制Chrome瀏覽器。\n",
        "from selenium import webdriver\n",
        "\n",
        "# 從Selenium函式庫的common.by模組中導入`By`，用於指定元素的定位方式。\n",
        "from selenium.webdriver.common.by import By\n",
        "\n",
        "# 建立ChromeOptions物件，這個物件用於設定Chrome瀏覽器的選項。\n",
        "chrome_options = webdriver.ChromeOptions()\n",
        "\n",
        "# 使用add_argument()方法添加--headless參數，使Chrome以headless模式運行，即在後台運行，不顯示GUI界面。\n",
        "chrome_options.add_argument('--headless')\n",
        "\n",
        "# 使用add_argument()方法添加--no-sandbox參數，這是一個必要的參數，用於解決在某些環境下的運行問題。\n",
        "chrome_options.add_argument('--no-sandbox')\n",
        "\n",
        "# 將 headless 屬性設置為 True。\n",
        "chrome_options.headless = True\n",
        "\n",
        "# 初始化Chrome WebDriver，並傳遞Chromedriver的路徑和選項。\n",
        "driver = webdriver.Chrome(options=chrome_options)\n",
        "\n",
        "# 設置隱式等待時間為10秒。隱式等待是在查找元素時的一種等待方式，\n",
        "# 如果WebDriver沒有找到元素，它會等待一定的時間再進行查找，直到超過設定的時間為止。\n",
        "driver.implicitly_wait(10)\n",
        "\n",
        "# 使用get方法訪問指定的URL，在此是\"https://www.flag.com.tw/books/school_code_n_algo\"。\n",
        "driver.get(\"https://www.flag.com.tw/books/school_code_n_algo\")\n",
        "\n",
        "# 通過LINK_TEXT鏈接文本\"世界第一簡單的 Python「超」入門 - 零基礎 OK！ChatGPT 隨時當助教！\"定位到超鏈接元素，並將其儲存在link1變數中。\n",
        "link1 = driver.find_element(By.LINK_TEXT, '世界第一簡單的 Python「超」入門 - 零基礎 OK！ChatGPT 隨時當助教！')\n",
        "\n",
        "# 列印link1元素的URL。\n",
        "print(link1.get_attribute(\"href\"))\n",
        "\n",
        "# 這個方法會關閉WebDriver並結束瀏覽器進程。這是為了確保在使用完瀏覽器後，程式可以正確地退出。\n",
        "driver.quit()"
      ],
      "metadata": {
        "id": "DRaE41CN4Nmg",
        "colab": {
          "base_uri": "https://localhost:8080/"
        },
        "outputId": "61e5d9a6-a721-4750-ad3d-42dd198f2403"
      },
      "execution_count": null,
      "outputs": [
        {
          "output_type": "stream",
          "name": "stdout",
          "text": [
            "https://www.flag.com.tw/books/product_s/F3768\n"
          ]
        }
      ]
    },
    {
      "cell_type": "markdown",
      "source": [
        "# 使用 find_element & By.PARTIAL_LINK_TEXT\n",
        "\n",
        "請找出並列印部分文字為\"高效率打造辦公室作業\"的網址鏈結。"
      ],
      "metadata": {
        "id": "aBnS7AeR4OTb"
      }
    },
    {
      "cell_type": "code",
      "source": [
        "# 這段程式碼是使用Selenium函式庫來控制Chrome瀏覽器，並從網頁中提取特定元素的文本內容。\n",
        "\n",
        "\n",
        "# 導入Selenium的webdriver模組，用於控制Chrome瀏覽器。\n",
        "from selenium import webdriver\n",
        "\n",
        "# 從Selenium函式庫的common.by模組中導入`By`，用於指定元素的定位方式。\n",
        "from selenium.webdriver.common.by import By\n",
        "\n",
        "# 建立ChromeOptions物件，這個物件用於設定Chrome瀏覽器的選項。\n",
        "chrome_options = webdriver.ChromeOptions()\n",
        "\n",
        "# 使用add_argument()方法添加--headless參數，使Chrome以headless模式運行，即在後台運行，不顯示GUI界面。\n",
        "chrome_options.add_argument('--headless')\n",
        "\n",
        "# 使用add_argument()方法添加--no-sandbox參數，這是一個必要的參數，用於解決在某些環境下的運行問題。\n",
        "chrome_options.add_argument('--no-sandbox')\n",
        "\n",
        "# 將 headless 屬性設置為 True。\n",
        "chrome_options.headless = True\n",
        "\n",
        "# 初始化Chrome WebDriver，並傳遞Chromedriver的路徑和選項。\n",
        "driver = webdriver.Chrome(options=chrome_options)\n",
        "\n",
        "# 設置隱式等待時間為10秒。隱式等待是在查找元素時的一種等待方式，\n",
        "# 如果WebDriver沒有找到元素，它會等待一定的時間再進行查找，直到超過設定的時間為止。\n",
        "driver.implicitly_wait(10)\n",
        "\n",
        "# 使用get方法訪問指定的URL，在此是\"https://www.flag.com.tw/books/school_code_n_algo\"。\n",
        "driver.get(\"https://www.flag.com.tw/books/school_code_n_algo\")\n",
        "\n",
        "# 通過PARTIAL_LINK_TEXT鏈接文本\"高效率打造辦公室作業念\"定位到超鏈接元素，並將其儲存在link1變數中。\n",
        "link1 = driver.find_element(By.PARTIAL_LINK_TEXT, '高效率打造辦公室作業念')\n",
        "\n",
        "# 列印link1元素的URL。\n",
        "print(link1.get_attribute(\"href\"))\n",
        "\n",
        "# 這個方法會關閉WebDriver並結束瀏覽器進程。這是為了確保在使用完瀏覽器後，程式可以正確地退出。\n",
        "driver.quit()"
      ],
      "metadata": {
        "id": "wYYQjaeI4Yvp",
        "colab": {
          "base_uri": "https://localhost:8080/",
          "height": 738
        },
        "outputId": "5fb50f52-7b91-4c4a-d812-b0ef974ecd6a"
      },
      "execution_count": null,
      "outputs": [
        {
          "output_type": "error",
          "ename": "NoSuchElementException",
          "evalue": "Message: no such element: Unable to locate element: {\"method\":\"partial link text\",\"selector\":\"高效率打造辦公室作業念\"}\n  (Session info: headless chrome=90.0.4430.212); For documentation on this error, please visit: https://www.selenium.dev/documentation/webdriver/troubleshooting/errors#no-such-element-exception\nStacktrace:\n#0 0x5a14dd83f7f9 <unknown>\n#1 0x5a14dd7df3b3 <unknown>\n#2 0x5a14dd527016 <unknown>\n#3 0x5a14dd55b81e <unknown>\n#4 0x5a14dd5918fb <unknown>\n#5 0x5a14dd57eded <unknown>\n#6 0x5a14dd58f9e1 <unknown>\n#7 0x5a14dd57ec93 <unknown>\n#8 0x5a14dd550ce4 <unknown>\n#9 0x5a14dd5524d2 <unknown>\n#10 0x5a14dd80b542 <unknown>\n#11 0x5a14dd81ace7 <unknown>\n#12 0x5a14dd81a9e4 <unknown>\n#13 0x5a14dd81f13a <unknown>\n#14 0x5a14dd81b5b9 <unknown>\n#15 0x5a14dd800e00 <unknown>\n#16 0x5a14dd8325d2 <unknown>\n#17 0x5a14dd832778 <unknown>\n#18 0x5a14dd84aa1f <unknown>\n#19 0x7d60eb23fac3 <unknown>\n#20 0x7d60eb2d1850 <unknown>\n",
          "traceback": [
            "\u001b[0;31m---------------------------------------------------------------------------\u001b[0m",
            "\u001b[0;31mNoSuchElementException\u001b[0m                    Traceback (most recent call last)",
            "\u001b[0;32m<ipython-input-15-6b3849e3f496>\u001b[0m in \u001b[0;36m<cell line: 33>\u001b[0;34m()\u001b[0m\n\u001b[1;32m     31\u001b[0m \u001b[0;34m\u001b[0m\u001b[0m\n\u001b[1;32m     32\u001b[0m \u001b[0;31m# 通過PARTIAL_LINK_TEXT鏈接文本\"高效率打造辦公室作業念\"定位到超鏈接元素，並將其儲存在link1變數中。\u001b[0m\u001b[0;34m\u001b[0m\u001b[0;34m\u001b[0m\u001b[0m\n\u001b[0;32m---> 33\u001b[0;31m \u001b[0mlink1\u001b[0m \u001b[0;34m=\u001b[0m \u001b[0mdriver\u001b[0m\u001b[0;34m.\u001b[0m\u001b[0mfind_element\u001b[0m\u001b[0;34m(\u001b[0m\u001b[0mBy\u001b[0m\u001b[0;34m.\u001b[0m\u001b[0mPARTIAL_LINK_TEXT\u001b[0m\u001b[0;34m,\u001b[0m \u001b[0;34m'高效率打造辦公室作業念'\u001b[0m\u001b[0;34m)\u001b[0m\u001b[0;34m\u001b[0m\u001b[0;34m\u001b[0m\u001b[0m\n\u001b[0m\u001b[1;32m     34\u001b[0m \u001b[0;34m\u001b[0m\u001b[0m\n\u001b[1;32m     35\u001b[0m \u001b[0;31m# 列印link1元素的URL。\u001b[0m\u001b[0;34m\u001b[0m\u001b[0;34m\u001b[0m\u001b[0m\n",
            "\u001b[0;32m/usr/local/lib/python3.10/dist-packages/selenium/webdriver/remote/webdriver.py\u001b[0m in \u001b[0;36mfind_element\u001b[0;34m(self, by, value)\u001b[0m\n\u001b[1;32m    739\u001b[0m             \u001b[0mvalue\u001b[0m \u001b[0;34m=\u001b[0m \u001b[0;34mf'[name=\"{value}\"]'\u001b[0m\u001b[0;34m\u001b[0m\u001b[0;34m\u001b[0m\u001b[0m\n\u001b[1;32m    740\u001b[0m \u001b[0;34m\u001b[0m\u001b[0m\n\u001b[0;32m--> 741\u001b[0;31m         \u001b[0;32mreturn\u001b[0m \u001b[0mself\u001b[0m\u001b[0;34m.\u001b[0m\u001b[0mexecute\u001b[0m\u001b[0;34m(\u001b[0m\u001b[0mCommand\u001b[0m\u001b[0;34m.\u001b[0m\u001b[0mFIND_ELEMENT\u001b[0m\u001b[0;34m,\u001b[0m \u001b[0;34m{\u001b[0m\u001b[0;34m\"using\"\u001b[0m\u001b[0;34m:\u001b[0m \u001b[0mby\u001b[0m\u001b[0;34m,\u001b[0m \u001b[0;34m\"value\"\u001b[0m\u001b[0;34m:\u001b[0m \u001b[0mvalue\u001b[0m\u001b[0;34m}\u001b[0m\u001b[0;34m)\u001b[0m\u001b[0;34m[\u001b[0m\u001b[0;34m\"value\"\u001b[0m\u001b[0;34m]\u001b[0m\u001b[0;34m\u001b[0m\u001b[0;34m\u001b[0m\u001b[0m\n\u001b[0m\u001b[1;32m    742\u001b[0m \u001b[0;34m\u001b[0m\u001b[0m\n\u001b[1;32m    743\u001b[0m     \u001b[0;32mdef\u001b[0m \u001b[0mfind_elements\u001b[0m\u001b[0;34m(\u001b[0m\u001b[0mself\u001b[0m\u001b[0;34m,\u001b[0m \u001b[0mby\u001b[0m\u001b[0;34m=\u001b[0m\u001b[0mBy\u001b[0m\u001b[0;34m.\u001b[0m\u001b[0mID\u001b[0m\u001b[0;34m,\u001b[0m \u001b[0mvalue\u001b[0m\u001b[0;34m:\u001b[0m \u001b[0mOptional\u001b[0m\u001b[0;34m[\u001b[0m\u001b[0mstr\u001b[0m\u001b[0;34m]\u001b[0m \u001b[0;34m=\u001b[0m \u001b[0;32mNone\u001b[0m\u001b[0;34m)\u001b[0m \u001b[0;34m->\u001b[0m \u001b[0mList\u001b[0m\u001b[0;34m[\u001b[0m\u001b[0mWebElement\u001b[0m\u001b[0;34m]\u001b[0m\u001b[0;34m:\u001b[0m\u001b[0;34m\u001b[0m\u001b[0;34m\u001b[0m\u001b[0m\n",
            "\u001b[0;32m/usr/local/lib/python3.10/dist-packages/selenium/webdriver/remote/webdriver.py\u001b[0m in \u001b[0;36mexecute\u001b[0;34m(self, driver_command, params)\u001b[0m\n\u001b[1;32m    345\u001b[0m         \u001b[0mresponse\u001b[0m \u001b[0;34m=\u001b[0m \u001b[0mself\u001b[0m\u001b[0;34m.\u001b[0m\u001b[0mcommand_executor\u001b[0m\u001b[0;34m.\u001b[0m\u001b[0mexecute\u001b[0m\u001b[0;34m(\u001b[0m\u001b[0mdriver_command\u001b[0m\u001b[0;34m,\u001b[0m \u001b[0mparams\u001b[0m\u001b[0;34m)\u001b[0m\u001b[0;34m\u001b[0m\u001b[0;34m\u001b[0m\u001b[0m\n\u001b[1;32m    346\u001b[0m         \u001b[0;32mif\u001b[0m \u001b[0mresponse\u001b[0m\u001b[0;34m:\u001b[0m\u001b[0;34m\u001b[0m\u001b[0;34m\u001b[0m\u001b[0m\n\u001b[0;32m--> 347\u001b[0;31m             \u001b[0mself\u001b[0m\u001b[0;34m.\u001b[0m\u001b[0merror_handler\u001b[0m\u001b[0;34m.\u001b[0m\u001b[0mcheck_response\u001b[0m\u001b[0;34m(\u001b[0m\u001b[0mresponse\u001b[0m\u001b[0;34m)\u001b[0m\u001b[0;34m\u001b[0m\u001b[0;34m\u001b[0m\u001b[0m\n\u001b[0m\u001b[1;32m    348\u001b[0m             \u001b[0mresponse\u001b[0m\u001b[0;34m[\u001b[0m\u001b[0;34m\"value\"\u001b[0m\u001b[0;34m]\u001b[0m \u001b[0;34m=\u001b[0m \u001b[0mself\u001b[0m\u001b[0;34m.\u001b[0m\u001b[0m_unwrap_value\u001b[0m\u001b[0;34m(\u001b[0m\u001b[0mresponse\u001b[0m\u001b[0;34m.\u001b[0m\u001b[0mget\u001b[0m\u001b[0;34m(\u001b[0m\u001b[0;34m\"value\"\u001b[0m\u001b[0;34m,\u001b[0m \u001b[0;32mNone\u001b[0m\u001b[0;34m)\u001b[0m\u001b[0;34m)\u001b[0m\u001b[0;34m\u001b[0m\u001b[0;34m\u001b[0m\u001b[0m\n\u001b[1;32m    349\u001b[0m             \u001b[0;32mreturn\u001b[0m \u001b[0mresponse\u001b[0m\u001b[0;34m\u001b[0m\u001b[0;34m\u001b[0m\u001b[0m\n",
            "\u001b[0;32m/usr/local/lib/python3.10/dist-packages/selenium/webdriver/remote/errorhandler.py\u001b[0m in \u001b[0;36mcheck_response\u001b[0;34m(self, response)\u001b[0m\n\u001b[1;32m    227\u001b[0m                 \u001b[0malert_text\u001b[0m \u001b[0;34m=\u001b[0m \u001b[0mvalue\u001b[0m\u001b[0;34m[\u001b[0m\u001b[0;34m\"alert\"\u001b[0m\u001b[0;34m]\u001b[0m\u001b[0;34m.\u001b[0m\u001b[0mget\u001b[0m\u001b[0;34m(\u001b[0m\u001b[0;34m\"text\"\u001b[0m\u001b[0;34m)\u001b[0m\u001b[0;34m\u001b[0m\u001b[0;34m\u001b[0m\u001b[0m\n\u001b[1;32m    228\u001b[0m             \u001b[0;32mraise\u001b[0m \u001b[0mexception_class\u001b[0m\u001b[0;34m(\u001b[0m\u001b[0mmessage\u001b[0m\u001b[0;34m,\u001b[0m \u001b[0mscreen\u001b[0m\u001b[0;34m,\u001b[0m \u001b[0mstacktrace\u001b[0m\u001b[0;34m,\u001b[0m \u001b[0malert_text\u001b[0m\u001b[0;34m)\u001b[0m  \u001b[0;31m# type: ignore[call-arg]  # mypy is not smart enough here\u001b[0m\u001b[0;34m\u001b[0m\u001b[0;34m\u001b[0m\u001b[0m\n\u001b[0;32m--> 229\u001b[0;31m         \u001b[0;32mraise\u001b[0m \u001b[0mexception_class\u001b[0m\u001b[0;34m(\u001b[0m\u001b[0mmessage\u001b[0m\u001b[0;34m,\u001b[0m \u001b[0mscreen\u001b[0m\u001b[0;34m,\u001b[0m \u001b[0mstacktrace\u001b[0m\u001b[0;34m)\u001b[0m\u001b[0;34m\u001b[0m\u001b[0;34m\u001b[0m\u001b[0m\n\u001b[0m",
            "\u001b[0;31mNoSuchElementException\u001b[0m: Message: no such element: Unable to locate element: {\"method\":\"partial link text\",\"selector\":\"高效率打造辦公室作業念\"}\n  (Session info: headless chrome=90.0.4430.212); For documentation on this error, please visit: https://www.selenium.dev/documentation/webdriver/troubleshooting/errors#no-such-element-exception\nStacktrace:\n#0 0x5a14dd83f7f9 <unknown>\n#1 0x5a14dd7df3b3 <unknown>\n#2 0x5a14dd527016 <unknown>\n#3 0x5a14dd55b81e <unknown>\n#4 0x5a14dd5918fb <unknown>\n#5 0x5a14dd57eded <unknown>\n#6 0x5a14dd58f9e1 <unknown>\n#7 0x5a14dd57ec93 <unknown>\n#8 0x5a14dd550ce4 <unknown>\n#9 0x5a14dd5524d2 <unknown>\n#10 0x5a14dd80b542 <unknown>\n#11 0x5a14dd81ace7 <unknown>\n#12 0x5a14dd81a9e4 <unknown>\n#13 0x5a14dd81f13a <unknown>\n#14 0x5a14dd81b5b9 <unknown>\n#15 0x5a14dd800e00 <unknown>\n#16 0x5a14dd8325d2 <unknown>\n#17 0x5a14dd832778 <unknown>\n#18 0x5a14dd84aa1f <unknown>\n#19 0x7d60eb23fac3 <unknown>\n#20 0x7d60eb2d1850 <unknown>\n"
          ]
        }
      ]
    },
    {
      "cell_type": "markdown",
      "source": [
        "# 使用 find_element & By.CSS_SELECTOR"
      ],
      "metadata": {
        "id": "ME6cPIJK4s7l"
      }
    },
    {
      "cell_type": "code",
      "source": [
        "# 這段程式碼是使用Selenium函式庫來控制Chrome瀏覽器，並從網頁中提取特定元素的文本內容。\n",
        "\n",
        "\n",
        "# 導入Selenium的webdriver模組，用於控制Chrome瀏覽器。\n",
        "from selenium import webdriver\n",
        "\n",
        "# 從Selenium函式庫的common.by模組中導入`By`，用於指定元素的定位方式。\n",
        "from selenium.webdriver.common.by import By\n",
        "\n",
        "# 建立ChromeOptions物件，這個物件用於設定Chrome瀏覽器的選項。\n",
        "chrome_options = webdriver.ChromeOptions()\n",
        "\n",
        "# 使用add_argument()方法添加--headless參數，使Chrome以headless模式運行，即在後台運行，不顯示GUI界面。\n",
        "chrome_options.add_argument('--headless')\n",
        "\n",
        "# 使用add_argument()方法添加--no-sandbox參數，這是一個必要的參數，用於解決在某些環境下的運行問題。\n",
        "chrome_options.add_argument('--no-sandbox')\n",
        "\n",
        "# 將 headless 屬性設置為 True。\n",
        "chrome_options.headless = True\n",
        "\n",
        "# 初始化Chrome WebDriver，並傳遞Chromedriver的路徑和選項。\n",
        "driver = webdriver.Chrome(options=chrome_options)\n",
        "\n",
        "# 設置隱式等待時間為10秒。隱式等待是在查找元素時的一種等待方式，\n",
        "# 如果WebDriver沒有找到元素，它會等待一定的時間再進行查找，直到超過設定的時間為止。\n",
        "driver.implicitly_wait(10)\n",
        "\n",
        "# 使用get方法訪問指定的URL，在此是\"https://www.flag.com.tw/books/school_code_n_algo\"。\n",
        "driver.get(\"https://www.flag.com.tw/books/school_code_n_algo\")\n",
        "\n",
        "# 使用find_element方法通過CSS選擇器，尋找所有標籤中帶有class屬性值為\"allbooks\"的元素。\n",
        "# By.CSS_SELECTOR是指定使用CSS選擇器來定位元素。\n",
        "# 目的是找到網頁中第一個具有class為\"allbooks\"的標籤元素，並將其賦值給變數content。\n",
        "content = driver.find_element(By.CSS_SELECTOR, \"section.allbooks\")\n",
        "\n",
        "# 列印content元素的文本內容。\n",
        "print(content.text[0:9])\n",
        "\n",
        "# 這個方法會關閉WebDriver並結束瀏覽器進程。這是為了確保在使用完瀏覽器後，程式可以正確地退出。\n",
        "driver.quit()\n"
      ],
      "metadata": {
        "id": "hTpQmW254xlt",
        "colab": {
          "base_uri": "https://localhost:8080/"
        },
        "outputId": "f93f9ffd-a4be-449c-ac4c-9be3cea4481c"
      },
      "execution_count": 17,
      "outputs": [
        {
          "output_type": "stream",
          "name": "stdout",
          "text": [
            "程式設計與演算法\n",
            "\n"
          ]
        }
      ]
    },
    {
      "cell_type": "code",
      "source": [],
      "metadata": {
        "id": "6wnW6fHYZEUk"
      },
      "execution_count": null,
      "outputs": []
    }
  ]
}