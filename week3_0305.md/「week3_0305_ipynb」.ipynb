{
  "nbformat": 4,
  "nbformat_minor": 0,
  "metadata": {
    "colab": {
      "provenance": []
    },
    "kernelspec": {
      "name": "python3",
      "display_name": "Python 3"
    },
    "language_info": {
      "name": "python"
    }
  },
  "cells": [
    {
      "cell_type": "markdown",
      "source": [
        "from google colab import files #匯入套件\n",
        "\n",
        "import pandas as pd\n",
        "\n",
        "upload = files.upload() #開啟上傳介面並載入\n",
        "\n",
        "data = pd.read_csv(\"剛剛上傳的檔案名稱\")"
      ],
      "metadata": {
        "id": "iaUICnvVBX5N"
      }
    },
    {
      "cell_type": "code",
      "execution_count": 2,
      "metadata": {
        "id": "nrJeVAasiBPQ",
        "colab": {
          "base_uri": "https://localhost:8080/"
        },
        "outputId": "7e289ab3-e237-41ab-fd4f-0ae1baa9b07f"
      },
      "outputs": [
        {
          "output_type": "stream",
          "name": "stdout",
          "text": [
            "Mounted at /content/gdrive/\n",
            "total 394\n",
            "-rw------- 1 root root  92484 Feb 27 06:21 112_student.csv\n",
            "-rw------- 1 root root 309767 Feb 27 07:13 week2_0227.ipynb\n"
          ]
        }
      ],
      "source": [
        "from google.colab import drive\n",
        "drive.mount('/content/gdrive/', force_remount=True)\n",
        "\n",
        "import os\n",
        "os.chdir(\"/content/gdrive/My Drive/\") # 切換目錄\n",
        "!ls -l \"/content/gdrive/My Drive/112_2_LATIA/\"\n"
      ]
    },
    {
      "cell_type": "code",
      "source": [
        "import pandas as pd\n",
        "\n",
        "csv_file = './112_2_LATIA/112_student.csv'\n",
        "#csv_file =\"自行填寫正確的路徑\"\n",
        "\n",
        "#columns = [\n",
        "#    \"學年度\",\"學校代碼\",\"學校名稱\",\"日間∕進修別\",\"等級別\",\"總計\",\"男生計\",\n",
        "#    \"女生計\",\"一年級男\",\"一年級女\",\"二年級男\",\"二年級女\",\"三年級男\",\"三年級女\",\n",
        "#    \"四年級男\",\"四年級女\",\"五年級男\",\"五年級女\",\"六年級男\",\"六年級女\",\n",
        "#    \"七年級男\",\"七年級女\",\"延修生男\",\"延修生女\",\"縣市名稱\",\"體系別\"\n",
        "#]\n",
        "df = pd.read_csv(csv_file)\n",
        "#print(df.head())\n",
        "\n",
        "#查看資料欄位資訊\n",
        "print(df.info())\n",
        "\n",
        "#查看資料的統計學資訊描述\n",
        "print(df.describe())"
      ],
      "metadata": {
        "id": "hth5CL3clOs2",
        "colab": {
          "base_uri": "https://localhost:8080/"
        },
        "outputId": "197871e4-ab03-4e6f-de46-d50e16196480"
      },
      "execution_count": 3,
      "outputs": [
        {
          "output_type": "stream",
          "name": "stdout",
          "text": [
            "<class 'pandas.core.frame.DataFrame'>\n",
            "RangeIndex: 764 entries, 0 to 763\n",
            "Data columns (total 26 columns):\n",
            " #   Column  Non-Null Count  Dtype \n",
            "---  ------  --------------  ----- \n",
            " 0   學年度     764 non-null    int64 \n",
            " 1   學校代碼    764 non-null    int64 \n",
            " 2   學校名稱    764 non-null    object\n",
            " 3   日間∕進修別  764 non-null    object\n",
            " 4   等級別     764 non-null    object\n",
            " 5   總計      764 non-null    int64 \n",
            " 6   男生計     764 non-null    int64 \n",
            " 7   女生計     764 non-null    int64 \n",
            " 8   一年級男    764 non-null    int64 \n",
            " 9   一年級女    764 non-null    int64 \n",
            " 10  二年級男    764 non-null    int64 \n",
            " 11  二年級女    764 non-null    int64 \n",
            " 12  三年級男    764 non-null    int64 \n",
            " 13  三年級女    764 non-null    int64 \n",
            " 14  四年級男    764 non-null    int64 \n",
            " 15  四年級女    764 non-null    int64 \n",
            " 16  五年級男    764 non-null    int64 \n",
            " 17  五年級女    764 non-null    int64 \n",
            " 18  六年級男    764 non-null    int64 \n",
            " 19  六年級女    764 non-null    int64 \n",
            " 20  七年級男    764 non-null    int64 \n",
            " 21  七年級女    764 non-null    int64 \n",
            " 22  延修生男    764 non-null    int64 \n",
            " 23  延修生女    764 non-null    int64 \n",
            " 24  縣市名稱    764 non-null    object\n",
            " 25  體系別     764 non-null    object\n",
            "dtypes: int64(21), object(5)\n",
            "memory usage: 155.3+ KB\n",
            "None\n",
            "         學年度         學校代碼            總計           男生計           女生計  \\\n",
            "count  764.0   764.000000    764.000000    764.000000    764.000000   \n",
            "mean   112.0   756.200262   1433.022251    708.655759    724.366492   \n",
            "std      0.0   504.152506   2633.932756   1385.170171   1348.848241   \n",
            "min    112.0     1.000000      1.000000      0.000000      0.000000   \n",
            "25%    112.0    48.000000    103.750000     43.750000     50.000000   \n",
            "50%    112.0  1029.000000    373.500000    180.000000    166.000000   \n",
            "75%    112.0  1060.000000   1387.500000    590.500000    718.500000   \n",
            "max    112.0  3002.000000  19466.000000  10885.000000  10716.000000   \n",
            "\n",
            "              一年級男         一年級女         二年級男         二年級女         三年級男  ...  \\\n",
            "count   764.000000   764.000000   764.000000   764.000000   764.000000  ...   \n",
            "mean    177.971204   173.545812   170.302356   166.284031   158.507853  ...   \n",
            "std     349.047086   321.080379   344.369500   315.779672   323.499085  ...   \n",
            "min       0.000000     0.000000     0.000000     0.000000     0.000000  ...   \n",
            "25%       5.000000     4.000000     5.000000     6.000000     6.000000  ...   \n",
            "50%      41.000000    37.000000    36.500000    35.000000    35.500000  ...   \n",
            "75%     161.250000   188.250000   157.000000   174.000000   127.500000  ...   \n",
            "max    2709.000000  2519.000000  2643.000000  2547.000000  2553.000000  ...   \n",
            "\n",
            "              四年級男         四年級女        五年級男        五年級女        六年級男  \\\n",
            "count   764.000000   764.000000  764.000000  764.000000  764.000000   \n",
            "mean    145.589005   161.738220   11.871728   20.469895    4.810209   \n",
            "std     308.939286   324.284355   32.233288   81.117153   19.818557   \n",
            "min       0.000000     0.000000    0.000000    0.000000    0.000000   \n",
            "25%       4.000000     4.000000    0.000000    0.000000    0.000000   \n",
            "50%      28.500000    30.000000    0.000000    0.000000    0.000000   \n",
            "75%     108.500000   141.500000    6.000000    6.000000    0.000000   \n",
            "max    2575.000000  2594.000000  309.000000  897.000000  179.000000   \n",
            "\n",
            "             六年級女        七年級男        七年級女         延修生男         延修生女  \n",
            "count  764.000000  764.000000  764.000000   764.000000   764.000000  \n",
            "mean     3.615183    2.955497    1.742147    36.647906    27.591623  \n",
            "std     13.204157   17.768959    8.937397    98.370926    74.731977  \n",
            "min      0.000000    0.000000    0.000000     0.000000     0.000000  \n",
            "25%      0.000000    0.000000    0.000000     0.000000     0.000000  \n",
            "50%      0.000000    0.000000    0.000000     0.000000     0.000000  \n",
            "75%      0.000000    0.000000    0.000000    21.000000    18.250000  \n",
            "max    125.000000  312.000000  132.000000  1448.000000  1107.000000  \n",
            "\n",
            "[8 rows x 21 columns]\n"
          ]
        }
      ]
    },
    {
      "cell_type": "markdown",
      "source": [
        "# 1.哪間大專院校有最多的學士生\n",
        "\n",
        "step1: 取出想要查看的欄位，並印出此資料集共有多少筆紀錄 (len)\n",
        "\n",
        "step2: 篩選等級別為\"B 學士\"的DataFrame，並印出有招生學士學制的學校數量\n",
        "\n",
        "step3: 依據\"總計\"從大到小排序並印出結果 (sort_values, by, ascending)"
      ],
      "metadata": {
        "id": "bX5p1tgOSu1i"
      }
    },
    {
      "cell_type": "code",
      "source": [
        "import pandas as pd\n",
        "\n",
        "# 讀取CSV檔案\n",
        "csv_file = './112_2_LATIA/112_student.csv'\n",
        "df = pd.read_csv(csv_file)\n",
        "\n",
        "\n",
        "# Step 1: 取出想要查看的欄位，並印出資料集共有多少筆紀錄 (len)\n",
        "df1 = df[['等級別']] # 取出想要觀看的欄位\n",
        "print(\"本資料集共有\", len(df1), \"筆紀錄\")\n",
        "\n",
        "# Step 2: 篩選等級別為\"B 學士\"的DataFrame，並印出有招生學士學制的學校數量\n",
        "df1_1 = df[df['等級別'] == 'B 學士']\n",
        "print(\"有招生學士學制的學校數量為\", len(df1_1['總計'].unique()), \"\\n\")\n",
        "\n",
        "# Step 3: 依據\"總計\"從大到小排序並印出結果\n",
        "df1_1_sorted = df1_1.sort_values(by='總計', ascending=False)\n",
        "print(\"112學年度在籍的學士生最多人數之學校為\", df1_1_sorted.head(1)['學校名稱'].values)\n"
      ],
      "metadata": {
        "id": "D9AfvfU-Szu7",
        "colab": {
          "base_uri": "https://localhost:8080/"
        },
        "outputId": "32016dd6-981a-4498-8887-6719dd22de16"
      },
      "execution_count": 26,
      "outputs": [
        {
          "output_type": "stream",
          "name": "stdout",
          "text": [
            "本資料集共有 764 筆紀錄\n",
            "有招生學士學制的學校數量為 97 \n",
            "\n",
            "112學年度在籍的學士生最多人數之學校為 ['淡江大學']\n"
          ]
        }
      ]
    },
    {
      "cell_type": "markdown",
      "source": [
        "# 2. 國立？所；私立？所\n",
        "\n",
        "step1: 建立空字串 (lsit=[])\n",
        "\n",
        "step2: 建立for迴圈，配合if else條件，取出國立與私立\n",
        "\n",
        "step3: 新增「公私立」column在DataFrame中 (df['公私立'])\n",
        "\n",
        "step4: 篩選掉重複的學校代碼資料 (drop_duplicates)\n",
        "\n",
        "step5: 計算公立與私立學校的筆數，並印出結果 (value_counts)"
      ],
      "metadata": {
        "id": "IzqRi2WyRZFh"
      }
    },
    {
      "cell_type": "code",
      "source": [
        "import pandas as pd\n",
        "\n",
        "# 讀取CSV檔案\n",
        "csv_file = './112_2_LATIA/112_student.csv'\n",
        "df = pd.read_csv(csv_file)\n",
        "type_list = [] # 建立空串列\n",
        "\n",
        "for i in df['學校名稱']:\n",
        "    if ('國立' in i):\n",
        "        type_list.append('國立')\n",
        "    else:\n",
        "        type_list.append('其他')\n",
        "\n",
        "df['公私立'] = type_list # 將 Dataframe 新增「公私立」column\n",
        "\n",
        "df = df.drop_duplicates(subset=['學校代碼']) # 篩選掉重複的學校代碼資料\n",
        "\n",
        "count_type = df['公私立'].value_counts()\n",
        "\n",
        "print(df)\n",
        "print(f\"本資料集共收集了 {len(df)} 所學校，其中公立：{count_type['國立']} 所；私立：{count_type['其他']} 所。\")\n"
      ],
      "metadata": {
        "id": "eMbiigpnRbdl",
        "colab": {
          "base_uri": "https://localhost:8080/"
        },
        "outputId": "3545b966-c8d0-4d0a-e728-e408bf8906d1"
      },
      "execution_count": 30,
      "outputs": [
        {
          "output_type": "stream",
          "name": "stdout",
          "text": [
            "     學年度  學校代碼        學校名稱 日間∕進修別   等級別    總計   男生計   女生計  一年級男  一年級女  ...  \\\n",
            "0    112     1      國立政治大學    D 日  D 博士   921   517   404    86    69  ...   \n",
            "4    112     2      國立清華大學    D 日  D 博士  1636  1131   505   206    93  ...   \n",
            "9    112     3      國立臺灣大學    D 日  D 博士  3654  2454  1200   431   215  ...   \n",
            "13   112     4    國立臺灣師範大學    D 日  D 博士  1337   630   707   106   127  ...   \n",
            "17   112     5      國立成功大學    D 日  D 博士  1888  1228   660   219   136  ...   \n",
            "..   ...   ...         ...    ...   ...   ...   ...   ...   ...   ...  ...   \n",
            "753  112  1289  育英醫護管理專科學校    D 日  5 五專  1833   200  1633    39   343  ...   \n",
            "754  112  1291  聖母醫護管理專科學校    D 日  2 二專     2     2     0     0     0  ...   \n",
            "757  112  1292  新生醫護管理專科學校    N 修  2 二專    79    12    67     7    37  ...   \n",
            "759  112  1293  崇仁醫護管理專科學校    D 日  5 五專  3017   460  2557   112   515  ...   \n",
            "760  112  3002      臺北市立大學    D 日  D 博士   208    94   114    17    11  ...   \n",
            "\n",
            "     五年級女  六年級男  六年級女  七年級男  七年級女  延修生男  延修生女    縣市名稱   體系別  公私立  \n",
            "0      52    68    37    66    50     0     0  30 臺北市  1 一般   國立  \n",
            "4      60   110    50   115    56     0     0  18 新竹市  1 一般   國立  \n",
            "9     128   179   106   312   132     0     0  30 臺北市  1 一般   國立  \n",
            "13     83    59    85    87    89     0     0  30 臺北市  3 師範   國立  \n",
            "17     84   107    57   110    48     0     0  21 臺南市  1 一般   國立  \n",
            "..    ...   ...   ...   ...   ...   ...   ...     ...   ...  ...  \n",
            "753   276     0     0     0     0    13    77  50 高雄市  2 技職   其他  \n",
            "754     0     0     0     0     0     2     0  02 宜蘭縣  2 技職   其他  \n",
            "757     0     0     0     0     0     0     1  03 桃園市  2 技職   其他  \n",
            "759   529     0     0     0     0    19    45  10 嘉義縣  2 技職   其他  \n",
            "760    14     6     9    16    25     0     0  30 臺北市  1 一般   其他  \n",
            "\n",
            "[145 rows x 27 columns]\n",
            "本資料集共收集了 145 所學校，其中公立：46 所；私立：99 所。\n"
          ]
        }
      ]
    },
    {
      "cell_type": "markdown",
      "source": [
        "# 3. 各等級別學制共有？所\n",
        "\n",
        "step1: 篩選掉重複的學校名稱與等級別 (drop_duplicates, subset)\n",
        "\n",
        "step2: 計算出等級別的筆數 (value_counts)\n",
        "\n",
        "step3: 建立等級別的字串，並找出其類別 (unique)\n",
        "\n",
        "step4: 使用for迴圈，依序列出所有等級別學制的學校數量 (count)"
      ],
      "metadata": {
        "id": "Fg_f-NzNSKiU"
      }
    },
    {
      "cell_type": "code",
      "source": [
        "import pandas as pd\n",
        "\n",
        "# 讀取CSV檔案\n",
        "csv_file = './112_2_LATIA/112_student.csv'\n",
        "df = pd.read_csv(csv_file)\n",
        "\n",
        "\n",
        "\n",
        "df3 = df.drop_duplicates(subset=['學校名稱', '等級別'])\n",
        "count = df3['等級別'].value_counts()\n",
        "degree_list = df['等級別'].unique()\n",
        "\n",
        "print(f\"本資料集總共收集了 {len(set(df['學校名稱']))} 所學校，各等級學制當中：\")\n",
        "for degree in degree_list:\n",
        "    print(f\"一共有 {count[degree]} 所學校， 有招收 {degree}。\")\n"
      ],
      "metadata": {
        "id": "FuhQKQqRSLOc",
        "colab": {
          "base_uri": "https://localhost:8080/"
        },
        "outputId": "7b592150-33c9-405a-fb15-af498aa663e9"
      },
      "execution_count": 25,
      "outputs": [
        {
          "output_type": "stream",
          "name": "stdout",
          "text": [
            "本資料集總共收集了 145 所學校，各等級學制當中：\n",
            "一共有 84 所學校， 有招收 D 博士。\n",
            "一共有 130 所學校， 有招收 M 碩士。\n",
            "一共有 67 所學校， 有招收 B 學士。\n",
            "一共有 1 所學校， 有招收 X 4+X。\n",
            "一共有 71 所學校， 有招收 C 二技。\n",
            "一共有 66 所學校， 有招收 B 四技。\n",
            "一共有 46 所學校， 有招收 5 五專。\n",
            "一共有 2 所學校， 有招收 5 七年。\n",
            "一共有 46 所學校， 有招收 2 二專。\n",
            "一共有 1 所學校， 有招收 C 二年制。\n"
          ]
        }
      ]
    },
    {
      "cell_type": "markdown",
      "source": [
        "# 4. 各縣市分別有？所，位於新北市的大專院校總共有幾所"
      ],
      "metadata": {
        "id": "wKevo1U1TOn2"
      }
    },
    {
      "cell_type": "code",
      "source": [
        "import pandas as pd\n",
        "\n",
        "# 讀取CSV檔案\n",
        "csv_file = './112_2_LATIA/112_student.csv'\n",
        "df = pd.read_csv(csv_file)\n",
        "\n",
        "# 篩選出縣市名稱不為NaN的資料\n",
        "df_filtered = df.dropna(subset=['縣市名稱'])\n",
        "\n",
        "# 篩選掉重複的學校名稱與縣市名稱\n",
        "df_filtered = df_filtered.drop_duplicates(subset=['學校名稱', '縣市名稱'])\n",
        "\n",
        "# 計算各縣市的大專院校數量\n",
        "count_by_county = df_filtered['縣市名稱'].value_counts()\n",
        "\n",
        "# 計算位於新北市的大專院校總數\n",
        "total_in_new_taipei = count_by_county['01 新北市']\n",
        "\n",
        "print(f\"各縣市分別有以下大專院校數量：\\n{count_by_county}\")\n",
        "print(f\"位於新北市的大專院校總共有 {total_in_new_taipei} 所。\")\n"
      ],
      "metadata": {
        "id": "kTfp6k2ATPPI",
        "colab": {
          "base_uri": "https://localhost:8080/"
        },
        "outputId": "d0036a29-96c6-47db-d308-b334af797c43"
      },
      "execution_count": 35,
      "outputs": [
        {
          "output_type": "stream",
          "name": "stdout",
          "text": [
            "各縣市分別有以下大專院校數量：\n",
            "30 臺北市    24\n",
            "01 新北市    20\n",
            "03 桃園市    12\n",
            "19 臺中市    11\n",
            "11 臺南市     9\n",
            "50 高雄市     8\n",
            "12 高雄市     7\n",
            "06 臺中市     6\n",
            "18 新竹市     5\n",
            "13 屏東縣     5\n",
            "21 臺南市     4\n",
            "10 嘉義縣     4\n",
            "07 彰化縣     4\n",
            "15 花蓮縣     4\n",
            "17 基隆市     3\n",
            "09 雲林縣     3\n",
            "02 宜蘭縣     3\n",
            "05 苗栗縣     3\n",
            "08 南投縣     2\n",
            "14 臺東縣     2\n",
            "20 嘉義市     2\n",
            "04 新竹縣     2\n",
            "16 澎湖縣     1\n",
            "71 金門縣     1\n",
            "Name: 縣市名稱, dtype: int64\n",
            "位於新北市的大專院校總共有 20 所。\n"
          ]
        }
      ]
    },
    {
      "cell_type": "markdown",
      "source": [
        "# 5. 北中南東區分別有？所\n",
        "\n",
        "都市及區域發展統計彙編 - 國發會 https://www.ndc.gov.tw/nc_77_4402"
      ],
      "metadata": {
        "id": "cwKsmmdNXKwL"
      }
    },
    {
      "cell_type": "markdown",
      "source": [
        "北部區域：包括臺北市、新北市、基隆市、新竹市、桃園市、新竹縣及宜蘭縣。\n",
        "\n",
        "中部區域：包括臺中市、苗栗縣、彰化縣、南投縣及雲林縣。\n",
        "\n",
        "南部區域：包括高雄市、臺南市、嘉義市、嘉義縣、屏東縣及澎湖縣。\n",
        "\n",
        "東部區域：包括花蓮縣及臺東縣。\n",
        "\n",
        "福建省：包括金門縣與連江縣。"
      ],
      "metadata": {
        "id": "nc8jGnGW_joN"
      }
    },
    {
      "cell_type": "code",
      "source": [
        "import pandas as pd\n",
        "\n",
        "# 讀取CSV檔案\n",
        "csv_file = './112_2_LATIA/112_student.csv'\n",
        "df = pd.read_csv(csv_file)\n",
        "\n",
        "# 篩選出縣市名稱不為NaN的資料\n",
        "df_filtered = df.dropna(subset=['縣市名稱'])\n",
        "\n",
        "# 確認縣市名稱的唯一值\n",
        "unique_counties = df_filtered['縣市名稱'].unique()\n",
        "\n",
        "# 定義各區域的縣市名稱列表\n",
        "north = ['30 臺北市', '01 新北市', '17 基隆市', '18 新竹市', '03 桃園市', '04 新竹縣', '02 宜蘭縣']\n",
        "central = ['06 臺中市', '05 苗栗縣', '07 彰化縣', '08 南投縣', '09 雲林縣']\n",
        "south = ['12 高雄市', '21 臺南市', '20 嘉義市', '10 嘉義縣', '13 屏東縣', '16 澎湖縣']\n",
        "east = ['15 花蓮縣', '14 臺東縣']\n",
        "fujian = ['71 金門縣', '連江縣']\n",
        "\n",
        "# 初始化各區域的大專院校數量\n",
        "count_north = 0\n",
        "count_central = 0\n",
        "count_south = 0\n",
        "count_east = 0\n",
        "count_fujian = 0\n",
        "\n",
        "# 計算各區域的大專院校數量\n",
        "for county in unique_counties:\n",
        "    if county in north:\n",
        "        count_north += 1\n",
        "    elif county in central:\n",
        "        count_central += 1\n",
        "    elif county in south:\n",
        "        count_south += 1\n",
        "    elif county in east:\n",
        "        count_east += 1\n",
        "    elif county in fujian:\n",
        "        count_fujian += 1\n",
        "\n",
        "print(\"北部區域大專院校數量：\", count_north)\n",
        "print(\"中部區域大專院校數量：\", count_central)\n",
        "print(\"南部區域大專院校數量：\", count_south)\n",
        "print(\"東部區域大專院校數量：\", count_east)\n",
        "print(\"福建省大專院校數量：\", count_fujian)\n"
      ],
      "metadata": {
        "id": "RDgJ5YoAx92d",
        "colab": {
          "base_uri": "https://localhost:8080/"
        },
        "outputId": "9735a5d1-f418-4e0d-c433-f3e2283e17b0"
      },
      "execution_count": 38,
      "outputs": [
        {
          "output_type": "stream",
          "name": "stdout",
          "text": [
            "北部區域大專院校數量： 7\n",
            "中部區域大專院校數量： 5\n",
            "南部區域大專院校數量： 6\n",
            "東部區域大專院校數量： 2\n",
            "福建省大專院校數量： 1\n"
          ]
        }
      ]
    },
    {
      "cell_type": "markdown",
      "source": [
        "# 6. 各體系別分別有？所"
      ],
      "metadata": {
        "id": "7WkoovplBeaz"
      }
    },
    {
      "cell_type": "code",
      "source": [
        "import pandas as pd\n",
        "\n",
        "# 讀取CSV檔案\n",
        "csv_file = './112_2_LATIA/112_student.csv'\n",
        "df = pd.read_csv(csv_file)\n",
        "\n",
        "# 篩選出體系別不為NaN的資料\n",
        "df_filtered = df.dropna(subset=['體系別'])\n",
        "\n",
        "# 篩選掉重複的學校名稱與體系別\n",
        "df_filtered = df_filtered.drop_duplicates(subset=['學校名稱', '體系別'])\n",
        "\n",
        "# 計算各體系別的學校數量\n",
        "count_by_system = df_filtered['體系別'].value_counts()\n",
        "\n",
        "print(\"各體系別分別有以下學校數量：\")\n",
        "print(count_by_system)\n"
      ],
      "metadata": {
        "id": "JKMhMFVMBiBF",
        "colab": {
          "base_uri": "https://localhost:8080/"
        },
        "outputId": "3e372aa4-f83c-4d50-9dd5-188baec8918d"
      },
      "execution_count": 39,
      "outputs": [
        {
          "output_type": "stream",
          "name": "stdout",
          "text": [
            "各體系別分別有以下學校數量：\n",
            "2 技職    91\n",
            "1 一般    62\n",
            "3 師範     5\n",
            "Name: 體系別, dtype: int64\n"
          ]
        }
      ]
    },
    {
      "cell_type": "markdown",
      "source": [
        "# 7. 國立/私立與男女比\n",
        "請問國立大學與私立大學在學男生女生比例為何? 延修生男生女生比例為何?"
      ],
      "metadata": {
        "id": "h3ujPC6KCLxI"
      }
    },
    {
      "cell_type": "code",
      "source": [
        "import pandas as pd\n",
        "\n",
        "# 讀取CSV檔案\n",
        "csv_file = './112_2_LATIA/112_student.csv'\n",
        "df = pd.read_csv(csv_file)\n",
        "\n",
        "count = {}\n",
        "\n",
        "def create_count_dict(df, count): # 建立多層 dict 結構來儲存各校在學與延修生的男女生數\n",
        "    df7 = df.drop_duplicates('學校代碼')\n",
        "    for i in df7['學校名稱']:\n",
        "        count[i] = {}\n",
        "        count[i]['在學生'] = {}\n",
        "        count[i]['在學生']['男生數'] = 0\n",
        "        count[i]['在學生']['女生數'] = 0\n",
        "        count[i]['延修生'] = {}\n",
        "        count[i]['延修生']['男生數'] = 0\n",
        "        count[i]['延修生']['女生數'] = 0\n",
        "\n",
        "\n",
        "def count_every_schools_data(df):\n",
        "    for j in range(len(df)):\n",
        "        count[df.iloc[j,2]]['在學生']['男生數'] += (int(df.iloc[j,8]) + int(df.iloc[j,10]) + int(df.iloc[j,12]) + int(df.iloc[j,14]) + int(df.iloc[j,16]) + int(df.iloc[j,18]) + int(df.iloc[j,20]))\n",
        "        count[df.iloc[j,2]]['在學生']['女生數'] += (int(df.iloc[j,9]) + int(df.iloc[j,11]) + int(df.iloc[j,13]) + int(df.iloc[j,15]) + int(df.iloc[j,17]) + int(df.iloc[j,19]) + int(df.iloc[j,21]))\n",
        "        count[df.iloc[j,2]]['延修生']['男生數'] += int(df.iloc[j,22])\n",
        "        count[df.iloc[j,2]]['延修生']['女生數'] += int(df.iloc[j,23])\n",
        "\n",
        "create_count_dict(df, count)\n",
        "count_every_schools_data(df)\n",
        "\n",
        "\n"
      ],
      "metadata": {
        "id": "deMDYF5ACMU-"
      },
      "execution_count": 59,
      "outputs": []
    },
    {
      "cell_type": "markdown",
      "source": [
        "# 8. 國立大學在學生男女比"
      ],
      "metadata": {
        "id": "DAvYMOFLCtRn"
      }
    },
    {
      "cell_type": "code",
      "source": [
        "import pandas as pd\n",
        "\n",
        "# 讀取CSV檔案\n",
        "csv_file = './112_2_LATIA/112_student.csv'\n",
        "df = pd.read_csv(csv_file)\n",
        "\n",
        "public_current_male = 0\n",
        "public_current_female = 0\n",
        "\n",
        "df7_1 = df.drop_duplicates('學校代碼', ignore_index=True)\n",
        "for i in range(len(df7_1)):\n",
        "    if df7_1.loc[i,'公私立'] == '國立':\n",
        "        public_current_male += count[df7_1.loc[i,'學校名稱']]['在學生']['男生數']\n",
        "        public_current_female += count[df7_1.loc[i,'學校名稱']]['在學生']['女生數']\n",
        "\n",
        "ratio = public_current_male/public_current_female*100 # 男女比計算公式\n",
        "print(f'國立大學在學生男女比：{ratio} ≑ {round(ratio,2)}') # 四捨五入至小數點後兩位\n"
      ],
      "metadata": {
        "id": "dYAEBiC7Co8B",
        "colab": {
          "base_uri": "https://localhost:8080/",
          "height": 477
        },
        "outputId": "cfb254f2-2767-4819-b599-b38718315869"
      },
      "execution_count": 53,
      "outputs": [
        {
          "output_type": "error",
          "ename": "KeyError",
          "evalue": "'公私立'",
          "traceback": [
            "\u001b[0;31m---------------------------------------------------------------------------\u001b[0m",
            "\u001b[0;31mKeyError\u001b[0m                                  Traceback (most recent call last)",
            "\u001b[0;32m/usr/local/lib/python3.10/dist-packages/pandas/core/indexes/base.py\u001b[0m in \u001b[0;36mget_loc\u001b[0;34m(self, key, method, tolerance)\u001b[0m\n\u001b[1;32m   3801\u001b[0m             \u001b[0;32mtry\u001b[0m\u001b[0;34m:\u001b[0m\u001b[0;34m\u001b[0m\u001b[0;34m\u001b[0m\u001b[0m\n\u001b[0;32m-> 3802\u001b[0;31m                 \u001b[0;32mreturn\u001b[0m \u001b[0mself\u001b[0m\u001b[0;34m.\u001b[0m\u001b[0m_engine\u001b[0m\u001b[0;34m.\u001b[0m\u001b[0mget_loc\u001b[0m\u001b[0;34m(\u001b[0m\u001b[0mcasted_key\u001b[0m\u001b[0;34m)\u001b[0m\u001b[0;34m\u001b[0m\u001b[0;34m\u001b[0m\u001b[0m\n\u001b[0m\u001b[1;32m   3803\u001b[0m             \u001b[0;32mexcept\u001b[0m \u001b[0mKeyError\u001b[0m \u001b[0;32mas\u001b[0m \u001b[0merr\u001b[0m\u001b[0;34m:\u001b[0m\u001b[0;34m\u001b[0m\u001b[0;34m\u001b[0m\u001b[0m\n",
            "\u001b[0;32m/usr/local/lib/python3.10/dist-packages/pandas/_libs/index.pyx\u001b[0m in \u001b[0;36mpandas._libs.index.IndexEngine.get_loc\u001b[0;34m()\u001b[0m\n",
            "\u001b[0;32m/usr/local/lib/python3.10/dist-packages/pandas/_libs/index.pyx\u001b[0m in \u001b[0;36mpandas._libs.index.IndexEngine.get_loc\u001b[0;34m()\u001b[0m\n",
            "\u001b[0;32mpandas/_libs/hashtable_class_helper.pxi\u001b[0m in \u001b[0;36mpandas._libs.hashtable.PyObjectHashTable.get_item\u001b[0;34m()\u001b[0m\n",
            "\u001b[0;32mpandas/_libs/hashtable_class_helper.pxi\u001b[0m in \u001b[0;36mpandas._libs.hashtable.PyObjectHashTable.get_item\u001b[0;34m()\u001b[0m\n",
            "\u001b[0;31mKeyError\u001b[0m: '公私立'",
            "\nThe above exception was the direct cause of the following exception:\n",
            "\u001b[0;31mKeyError\u001b[0m                                  Traceback (most recent call last)",
            "\u001b[0;32m<ipython-input-53-4ce80c965e91>\u001b[0m in \u001b[0;36m<cell line: 11>\u001b[0;34m()\u001b[0m\n\u001b[1;32m     10\u001b[0m \u001b[0mdf7_1\u001b[0m \u001b[0;34m=\u001b[0m \u001b[0mdf\u001b[0m\u001b[0;34m.\u001b[0m\u001b[0mdrop_duplicates\u001b[0m\u001b[0;34m(\u001b[0m\u001b[0;34m'學校代碼'\u001b[0m\u001b[0;34m,\u001b[0m \u001b[0mignore_index\u001b[0m\u001b[0;34m=\u001b[0m\u001b[0;32mTrue\u001b[0m\u001b[0;34m)\u001b[0m\u001b[0;34m\u001b[0m\u001b[0;34m\u001b[0m\u001b[0m\n\u001b[1;32m     11\u001b[0m \u001b[0;32mfor\u001b[0m \u001b[0mi\u001b[0m \u001b[0;32min\u001b[0m \u001b[0mrange\u001b[0m\u001b[0;34m(\u001b[0m\u001b[0mlen\u001b[0m\u001b[0;34m(\u001b[0m\u001b[0mdf7_1\u001b[0m\u001b[0;34m)\u001b[0m\u001b[0;34m)\u001b[0m\u001b[0;34m:\u001b[0m\u001b[0;34m\u001b[0m\u001b[0;34m\u001b[0m\u001b[0m\n\u001b[0;32m---> 12\u001b[0;31m     \u001b[0;32mif\u001b[0m \u001b[0mdf7_1\u001b[0m\u001b[0;34m.\u001b[0m\u001b[0mloc\u001b[0m\u001b[0;34m[\u001b[0m\u001b[0mi\u001b[0m\u001b[0;34m,\u001b[0m\u001b[0;34m'公私立'\u001b[0m\u001b[0;34m]\u001b[0m \u001b[0;34m==\u001b[0m \u001b[0;34m'國立'\u001b[0m\u001b[0;34m:\u001b[0m\u001b[0;34m\u001b[0m\u001b[0;34m\u001b[0m\u001b[0m\n\u001b[0m\u001b[1;32m     13\u001b[0m         \u001b[0mpublic_current_male\u001b[0m \u001b[0;34m+=\u001b[0m \u001b[0mcount\u001b[0m\u001b[0;34m[\u001b[0m\u001b[0mdf7_1\u001b[0m\u001b[0;34m.\u001b[0m\u001b[0mloc\u001b[0m\u001b[0;34m[\u001b[0m\u001b[0mi\u001b[0m\u001b[0;34m,\u001b[0m\u001b[0;34m'學校名稱'\u001b[0m\u001b[0;34m]\u001b[0m\u001b[0;34m]\u001b[0m\u001b[0;34m[\u001b[0m\u001b[0;34m'在學生'\u001b[0m\u001b[0;34m]\u001b[0m\u001b[0;34m[\u001b[0m\u001b[0;34m'男生數'\u001b[0m\u001b[0;34m]\u001b[0m\u001b[0;34m\u001b[0m\u001b[0;34m\u001b[0m\u001b[0m\n\u001b[1;32m     14\u001b[0m         \u001b[0mpublic_current_female\u001b[0m \u001b[0;34m+=\u001b[0m \u001b[0mcount\u001b[0m\u001b[0;34m[\u001b[0m\u001b[0mdf7_1\u001b[0m\u001b[0;34m.\u001b[0m\u001b[0mloc\u001b[0m\u001b[0;34m[\u001b[0m\u001b[0mi\u001b[0m\u001b[0;34m,\u001b[0m\u001b[0;34m'學校名稱'\u001b[0m\u001b[0;34m]\u001b[0m\u001b[0;34m]\u001b[0m\u001b[0;34m[\u001b[0m\u001b[0;34m'在學生'\u001b[0m\u001b[0;34m]\u001b[0m\u001b[0;34m[\u001b[0m\u001b[0;34m'女生數'\u001b[0m\u001b[0;34m]\u001b[0m\u001b[0;34m\u001b[0m\u001b[0;34m\u001b[0m\u001b[0m\n",
            "\u001b[0;32m/usr/local/lib/python3.10/dist-packages/pandas/core/indexing.py\u001b[0m in \u001b[0;36m__getitem__\u001b[0;34m(self, key)\u001b[0m\n\u001b[1;32m   1064\u001b[0m             \u001b[0mkey\u001b[0m \u001b[0;34m=\u001b[0m \u001b[0mtuple\u001b[0m\u001b[0;34m(\u001b[0m\u001b[0mcom\u001b[0m\u001b[0;34m.\u001b[0m\u001b[0mapply_if_callable\u001b[0m\u001b[0;34m(\u001b[0m\u001b[0mx\u001b[0m\u001b[0;34m,\u001b[0m \u001b[0mself\u001b[0m\u001b[0;34m.\u001b[0m\u001b[0mobj\u001b[0m\u001b[0;34m)\u001b[0m \u001b[0;32mfor\u001b[0m \u001b[0mx\u001b[0m \u001b[0;32min\u001b[0m \u001b[0mkey\u001b[0m\u001b[0;34m)\u001b[0m\u001b[0;34m\u001b[0m\u001b[0;34m\u001b[0m\u001b[0m\n\u001b[1;32m   1065\u001b[0m             \u001b[0;32mif\u001b[0m \u001b[0mself\u001b[0m\u001b[0;34m.\u001b[0m\u001b[0m_is_scalar_access\u001b[0m\u001b[0;34m(\u001b[0m\u001b[0mkey\u001b[0m\u001b[0;34m)\u001b[0m\u001b[0;34m:\u001b[0m\u001b[0;34m\u001b[0m\u001b[0;34m\u001b[0m\u001b[0m\n\u001b[0;32m-> 1066\u001b[0;31m                 \u001b[0;32mreturn\u001b[0m \u001b[0mself\u001b[0m\u001b[0;34m.\u001b[0m\u001b[0mobj\u001b[0m\u001b[0;34m.\u001b[0m\u001b[0m_get_value\u001b[0m\u001b[0;34m(\u001b[0m\u001b[0;34m*\u001b[0m\u001b[0mkey\u001b[0m\u001b[0;34m,\u001b[0m \u001b[0mtakeable\u001b[0m\u001b[0;34m=\u001b[0m\u001b[0mself\u001b[0m\u001b[0;34m.\u001b[0m\u001b[0m_takeable\u001b[0m\u001b[0;34m)\u001b[0m\u001b[0;34m\u001b[0m\u001b[0;34m\u001b[0m\u001b[0m\n\u001b[0m\u001b[1;32m   1067\u001b[0m             \u001b[0;32mreturn\u001b[0m \u001b[0mself\u001b[0m\u001b[0;34m.\u001b[0m\u001b[0m_getitem_tuple\u001b[0m\u001b[0;34m(\u001b[0m\u001b[0mkey\u001b[0m\u001b[0;34m)\u001b[0m\u001b[0;34m\u001b[0m\u001b[0;34m\u001b[0m\u001b[0m\n\u001b[1;32m   1068\u001b[0m         \u001b[0;32melse\u001b[0m\u001b[0;34m:\u001b[0m\u001b[0;34m\u001b[0m\u001b[0;34m\u001b[0m\u001b[0m\n",
            "\u001b[0;32m/usr/local/lib/python3.10/dist-packages/pandas/core/frame.py\u001b[0m in \u001b[0;36m_get_value\u001b[0;34m(self, index, col, takeable)\u001b[0m\n\u001b[1;32m   3915\u001b[0m             \u001b[0;32mreturn\u001b[0m \u001b[0mseries\u001b[0m\u001b[0;34m.\u001b[0m\u001b[0m_values\u001b[0m\u001b[0;34m[\u001b[0m\u001b[0mindex\u001b[0m\u001b[0;34m]\u001b[0m\u001b[0;34m\u001b[0m\u001b[0;34m\u001b[0m\u001b[0m\n\u001b[1;32m   3916\u001b[0m \u001b[0;34m\u001b[0m\u001b[0m\n\u001b[0;32m-> 3917\u001b[0;31m         \u001b[0mseries\u001b[0m \u001b[0;34m=\u001b[0m \u001b[0mself\u001b[0m\u001b[0;34m.\u001b[0m\u001b[0m_get_item_cache\u001b[0m\u001b[0;34m(\u001b[0m\u001b[0mcol\u001b[0m\u001b[0;34m)\u001b[0m\u001b[0;34m\u001b[0m\u001b[0;34m\u001b[0m\u001b[0m\n\u001b[0m\u001b[1;32m   3918\u001b[0m         \u001b[0mengine\u001b[0m \u001b[0;34m=\u001b[0m \u001b[0mself\u001b[0m\u001b[0;34m.\u001b[0m\u001b[0mindex\u001b[0m\u001b[0;34m.\u001b[0m\u001b[0m_engine\u001b[0m\u001b[0;34m\u001b[0m\u001b[0;34m\u001b[0m\u001b[0m\n\u001b[1;32m   3919\u001b[0m \u001b[0;34m\u001b[0m\u001b[0m\n",
            "\u001b[0;32m/usr/local/lib/python3.10/dist-packages/pandas/core/frame.py\u001b[0m in \u001b[0;36m_get_item_cache\u001b[0;34m(self, item)\u001b[0m\n\u001b[1;32m   4280\u001b[0m             \u001b[0;31m#  pending resolution of GH#33047\u001b[0m\u001b[0;34m\u001b[0m\u001b[0;34m\u001b[0m\u001b[0m\n\u001b[1;32m   4281\u001b[0m \u001b[0;34m\u001b[0m\u001b[0m\n\u001b[0;32m-> 4282\u001b[0;31m             \u001b[0mloc\u001b[0m \u001b[0;34m=\u001b[0m \u001b[0mself\u001b[0m\u001b[0;34m.\u001b[0m\u001b[0mcolumns\u001b[0m\u001b[0;34m.\u001b[0m\u001b[0mget_loc\u001b[0m\u001b[0;34m(\u001b[0m\u001b[0mitem\u001b[0m\u001b[0;34m)\u001b[0m\u001b[0;34m\u001b[0m\u001b[0;34m\u001b[0m\u001b[0m\n\u001b[0m\u001b[1;32m   4283\u001b[0m             \u001b[0mres\u001b[0m \u001b[0;34m=\u001b[0m \u001b[0mself\u001b[0m\u001b[0;34m.\u001b[0m\u001b[0m_ixs\u001b[0m\u001b[0;34m(\u001b[0m\u001b[0mloc\u001b[0m\u001b[0;34m,\u001b[0m \u001b[0maxis\u001b[0m\u001b[0;34m=\u001b[0m\u001b[0;36m1\u001b[0m\u001b[0;34m)\u001b[0m\u001b[0;34m\u001b[0m\u001b[0;34m\u001b[0m\u001b[0m\n\u001b[1;32m   4284\u001b[0m \u001b[0;34m\u001b[0m\u001b[0m\n",
            "\u001b[0;32m/usr/local/lib/python3.10/dist-packages/pandas/core/indexes/base.py\u001b[0m in \u001b[0;36mget_loc\u001b[0;34m(self, key, method, tolerance)\u001b[0m\n\u001b[1;32m   3802\u001b[0m                 \u001b[0;32mreturn\u001b[0m \u001b[0mself\u001b[0m\u001b[0;34m.\u001b[0m\u001b[0m_engine\u001b[0m\u001b[0;34m.\u001b[0m\u001b[0mget_loc\u001b[0m\u001b[0;34m(\u001b[0m\u001b[0mcasted_key\u001b[0m\u001b[0;34m)\u001b[0m\u001b[0;34m\u001b[0m\u001b[0;34m\u001b[0m\u001b[0m\n\u001b[1;32m   3803\u001b[0m             \u001b[0;32mexcept\u001b[0m \u001b[0mKeyError\u001b[0m \u001b[0;32mas\u001b[0m \u001b[0merr\u001b[0m\u001b[0;34m:\u001b[0m\u001b[0;34m\u001b[0m\u001b[0;34m\u001b[0m\u001b[0m\n\u001b[0;32m-> 3804\u001b[0;31m                 \u001b[0;32mraise\u001b[0m \u001b[0mKeyError\u001b[0m\u001b[0;34m(\u001b[0m\u001b[0mkey\u001b[0m\u001b[0;34m)\u001b[0m \u001b[0;32mfrom\u001b[0m \u001b[0merr\u001b[0m\u001b[0;34m\u001b[0m\u001b[0;34m\u001b[0m\u001b[0m\n\u001b[0m\u001b[1;32m   3805\u001b[0m             \u001b[0;32mexcept\u001b[0m \u001b[0mTypeError\u001b[0m\u001b[0;34m:\u001b[0m\u001b[0;34m\u001b[0m\u001b[0;34m\u001b[0m\u001b[0m\n\u001b[1;32m   3806\u001b[0m                 \u001b[0;31m# If we have a listlike key, _check_indexing_error will raise\u001b[0m\u001b[0;34m\u001b[0m\u001b[0;34m\u001b[0m\u001b[0m\n",
            "\u001b[0;31mKeyError\u001b[0m: '公私立'"
          ]
        }
      ]
    },
    {
      "cell_type": "markdown",
      "source": [
        " # 9. 每校平均最多與最少人的體系"
      ],
      "metadata": {
        "id": "zWIyQ01LXGo_"
      }
    },
    {
      "cell_type": "code",
      "source": [
        "import pandas as pd\n",
        "\n",
        "# 讀取CSV檔案\n",
        "csv_file = './112_2_LATIA/112_student.csv'\n",
        "df = pd.read_csv(csv_file)\n",
        "\n",
        "df11 = df.drop_duplicates('學校代碼')\n",
        "system_count = df11['體系別'].value_counts()\n",
        "\n",
        "system_list = list(df['體系別'].unique())\n",
        "count_student = 0\n",
        "result_dict = {}\n",
        "\n",
        "for system in system_list:\n",
        "    for i in range(len(df)):\n",
        "        if df.loc[i,'體系別'] == system:\n",
        "            count_student += int(df.loc[i, '總計'])\n",
        "    result_dict[system[2:]] = count_student/system_count[system]\n",
        "    count_student = 0\n",
        "\n",
        "max_value = max(result_dict.values())\n",
        "min_value = min(result_dict.values())\n",
        "max_key = next(key for key, value in result_dict.items() if value == max_value)\n",
        "min_key = next(key for key, value in result_dict.items() if value == min_value)\n",
        "\n",
        "print(f\"每校平均最多人的是{max_key}體系，平均每校 {round(max_value,2)} 人；\")\n",
        "print(f\"每校平均最少人的是{min_key}體系，平均每校 {round(min_value,2)} 人。\")\n"
      ],
      "metadata": {
        "id": "uSHT2gbiXIW8",
        "colab": {
          "base_uri": "https://localhost:8080/"
        },
        "outputId": "3d9161cf-882a-427a-dce2-b7c1290db489"
      },
      "execution_count": 50,
      "outputs": [
        {
          "output_type": "stream",
          "name": "stdout",
          "text": [
            "每校平均最多人的是一般體系，平均每校 9224.89 人；\n",
            "每校平均最少人的是技職體系，平均每校 6143.56 人。\n"
          ]
        }
      ]
    },
    {
      "cell_type": "markdown",
      "source": [
        "# 10. 將新增的欄位寫入並儲存成新的CSV檔案，並命名為112_students_tf.csv\n",
        "\n",
        "新增的欄位有\"公私立\"，\"縣市名\"，\"區域\""
      ],
      "metadata": {
        "id": "KIx0QtssywfA"
      }
    },
    {
      "cell_type": "code",
      "source": [
        "import pandas as pd\n",
        "\n",
        "# 讀取CSV檔案\n",
        "csv_file = './112_2_LATIA/112_student.csv'\n",
        "df = pd.read_csv(csv_file)\n",
        "\n",
        "# 建立公私立判斷串列\n",
        "type_list = []\n",
        "\n",
        "for i in df['學校名稱']:\n",
        "    if ('國立' in i):\n",
        "        type_list.append('國立')\n",
        "    else:\n",
        "        type_list.append('其他')\n",
        "\n",
        "df['公私立'] = type_list  # 將 Dataframe 新增「公私立」column\n",
        "\n",
        "# 建立縣市與區域欄位\n",
        "city_list = []\n",
        "area_list = []\n",
        "\n",
        "for city in df['縣市名稱']:\n",
        "    if city in ['臺北市', '新北市', '基隆市', '新竹市', '桃園市', '新竹縣', '宜蘭縣']:\n",
        "        area_list.append('北部')\n",
        "    elif city in ['臺中市', '苗栗縣', '彰化縣', '南投縣', '雲林縣']:\n",
        "        area_list.append('中部')\n",
        "    elif city in ['高雄市', '臺南市', '嘉義市', '嘉義縣', '屏東縣', '澎湖縣']:\n",
        "        area_list.append('南部')\n",
        "    elif city in ['花蓮縣', '臺東縣']:\n",
        "        area_list.append('東部')\n",
        "    elif city in ['金門縣', '連江縣']:\n",
        "        area_list.append('福建省')\n",
        "    else:\n",
        "        area_list.append('其他')\n",
        "    city_list.append(city)\n",
        "\n",
        "df['縣市名'] = city_list\n",
        "df['區域'] = area_list\n",
        "\n",
        "# 選擇要保留的欄位\n",
        "columns_to_keep = ['公私立', '縣市名', '區域']\n",
        "\n",
        "# 儲存成新的CSV檔案\n",
        "new_csv_file = './112_students_tf.csv'\n",
        "df[columns_to_keep].to_csv(new_csv_file, index=False)\n",
        "\n",
        "print(f\"已將新增的欄位寫入並儲存成新的CSV檔案，檔案名稱為 {new_csv_file}\")\n",
        "\n"
      ],
      "metadata": {
        "id": "LZUhVcpGzFOE",
        "colab": {
          "base_uri": "https://localhost:8080/"
        },
        "outputId": "47971801-412a-4c58-efc6-6d82c3ab984d"
      },
      "execution_count": 46,
      "outputs": [
        {
          "output_type": "stream",
          "name": "stdout",
          "text": [
            "已將新增的欄位寫入並儲存成新的CSV檔案，檔案名稱為 ./112_students_tf.csv\n"
          ]
        }
      ]
    },
    {
      "cell_type": "markdown",
      "source": [
        "如何計算師大的男女比例？"
      ],
      "metadata": {
        "id": "r-HH1fdGj7Cz"
      }
    },
    {
      "cell_type": "code",
      "source": [
        "import pandas as pd\n",
        "\n",
        "# 讀取CSV檔案\n",
        "csv_file = '112_student.csv'\n",
        "df = pd.read_csv(csv_file)\n",
        "\n",
        "# 選取特定學校的資料\n",
        "school_name = '國立臺灣師範大學'\n",
        "school_data = df[df['學校名稱'] == school_name]\n",
        "\n",
        "# 計算男女比例\n",
        "male_count = school_data['男生計'].sum()\n",
        "female_count = school_data['女生計'].sum()\n",
        "male_female_ratio = male_count / female_count\n",
        "\n",
        "print(f\"{school_name}的男女比例為：{male_female_ratio:.2f}\")\n"
      ],
      "metadata": {
        "colab": {
          "base_uri": "https://localhost:8080/"
        },
        "id": "ZE_omb7oj7Vb",
        "outputId": "b9cf061e-b40c-4924-dad0-1fa67db09ca1"
      },
      "execution_count": 55,
      "outputs": [
        {
          "output_type": "stream",
          "name": "stdout",
          "text": [
            "國立臺灣師範大學的男女比例為：0.74\n"
          ]
        }
      ]
    },
    {
      "cell_type": "markdown",
      "source": [
        "如何找出男女比例最高的學校？"
      ],
      "metadata": {
        "id": "g3s28B4Dk191"
      }
    },
    {
      "cell_type": "code",
      "source": [
        "import pandas as pd\n",
        "\n",
        "# 讀取CSV檔案\n",
        "csv_file = '112_student.csv'\n",
        "df = pd.read_csv(csv_file)\n",
        "\n",
        "# 計算每所學校的男女比例\n",
        "df['男女比例'] = df['男生計'] / df['女生計']\n",
        "\n",
        "# 找出男女比例最高的學校\n",
        "highest_ratio_school = df.loc[df['男女比例'].idxmax(), '學校名稱']\n",
        "highest_ratio_value = df['男女比例'].max()\n",
        "male_count = school_data['男生計'].sum()\n",
        "female_count = school_data['女生計'].sum()\n",
        "male_female_ratio = male_count / female_count\n",
        "\n",
        "print(f\"男女比例最高的學校是{highest_ratio_school}，其男女比例為{male_female_ratio:.2f}\")\n"
      ],
      "metadata": {
        "colab": {
          "base_uri": "https://localhost:8080/"
        },
        "id": "zBZWtifEk6St",
        "outputId": "f61882da-936d-43fa-f7ee-291ddc6e9990"
      },
      "execution_count": 57,
      "outputs": [
        {
          "output_type": "stream",
          "name": "stdout",
          "text": [
            "男女比例最高的學校是國立清華大學，其男女比例為0.74\n"
          ]
        }
      ]
    },
    {
      "cell_type": "markdown",
      "source": [
        "如何計算各縣市大學男生人數的總和"
      ],
      "metadata": {
        "id": "PuY_bh79lT9O"
      }
    },
    {
      "cell_type": "code",
      "source": [
        "import pandas as pd\n",
        "\n",
        "# 讀取CSV檔案\n",
        "csv_file = '112_student.csv'\n",
        "df = pd.read_csv(csv_file)\n",
        "\n",
        "# 計算各縣市男生人數的總和\n",
        "male_count_by_city = df.groupby('縣市名稱')['男生計'].sum()\n",
        "\n",
        "print(\"各縣市男生人數的總和：\")\n",
        "print(male_count_by_city)\n"
      ],
      "metadata": {
        "colab": {
          "base_uri": "https://localhost:8080/"
        },
        "id": "DzpF16m4lZ6W",
        "outputId": "d1e7df60-58c1-464f-8e8e-3e329739b71f"
      },
      "execution_count": 58,
      "outputs": [
        {
          "output_type": "stream",
          "name": "stdout",
          "text": [
            "各縣市男生人數的總和：\n",
            "縣市名稱\n",
            "01 新北市     57403\n",
            "02 宜蘭縣      5162\n",
            "03 桃園市     49665\n",
            "04 新竹縣      6385\n",
            "05 苗栗縣      8245\n",
            "06 臺中市     30501\n",
            "07 彰化縣      9985\n",
            "08 南投縣      4845\n",
            "09 雲林縣     16007\n",
            "10 嘉義縣     11183\n",
            "11 臺南市     28409\n",
            "12 高雄市     24426\n",
            "13 屏東縣     13191\n",
            "14 臺東縣      2792\n",
            "15 花蓮縣      7045\n",
            "16 澎湖縣      1703\n",
            "17 基隆市      7645\n",
            "18 新竹市     28738\n",
            "19 臺中市     53377\n",
            "20 嘉義市      6026\n",
            "21 臺南市     17668\n",
            "30 臺北市    111562\n",
            "50 高雄市     37296\n",
            "71 金門縣      2154\n",
            "Name: 男生計, dtype: int64\n"
          ]
        }
      ]
    }
  ]
}